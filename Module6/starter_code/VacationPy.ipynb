{
 "cells": [
  {
   "cell_type": "markdown",
   "metadata": {},
   "source": [
    "# VacationPy\n",
    "---\n",
    "\n",
    "## Starter Code to Import Libraries and Load the Weather and Coordinates Data"
   ]
  },
  {
   "cell_type": "code",
   "execution_count": 8,
   "metadata": {},
   "outputs": [],
   "source": [
    "# Dependencies and Setup\n",
    "import hvplot.pandas\n",
    "import pandas as pd\n",
    "import requests\n",
    "\n",
    "# Import API key\n",
    "from api_keys import geoapify_key"
   ]
  },
  {
   "cell_type": "code",
   "execution_count": 9,
   "metadata": {},
   "outputs": [
    {
     "data": {
      "text/html": [
       "<div>\n",
       "<style scoped>\n",
       "    .dataframe tbody tr th:only-of-type {\n",
       "        vertical-align: middle;\n",
       "    }\n",
       "\n",
       "    .dataframe tbody tr th {\n",
       "        vertical-align: top;\n",
       "    }\n",
       "\n",
       "    .dataframe thead th {\n",
       "        text-align: right;\n",
       "    }\n",
       "</style>\n",
       "<table border=\"1\" class=\"dataframe\">\n",
       "  <thead>\n",
       "    <tr style=\"text-align: right;\">\n",
       "      <th></th>\n",
       "      <th>City_ID</th>\n",
       "      <th>City</th>\n",
       "      <th>Lat</th>\n",
       "      <th>Lng</th>\n",
       "      <th>Max Temp</th>\n",
       "      <th>Humidity</th>\n",
       "      <th>Cloudiness</th>\n",
       "      <th>Wind Speed</th>\n",
       "      <th>Country</th>\n",
       "      <th>Date</th>\n",
       "    </tr>\n",
       "  </thead>\n",
       "  <tbody>\n",
       "    <tr>\n",
       "      <th>0</th>\n",
       "      <td>0</td>\n",
       "      <td>papatowai</td>\n",
       "      <td>-46.5619</td>\n",
       "      <td>169.4708</td>\n",
       "      <td>59.68</td>\n",
       "      <td>61</td>\n",
       "      <td>100</td>\n",
       "      <td>12.08</td>\n",
       "      <td>NZ</td>\n",
       "      <td>1685059870</td>\n",
       "    </tr>\n",
       "    <tr>\n",
       "      <th>1</th>\n",
       "      <td>1</td>\n",
       "      <td>mossendjo</td>\n",
       "      <td>-46.5619</td>\n",
       "      <td>169.4708</td>\n",
       "      <td>59.68</td>\n",
       "      <td>61</td>\n",
       "      <td>100</td>\n",
       "      <td>12.08</td>\n",
       "      <td>NZ</td>\n",
       "      <td>1685059870</td>\n",
       "    </tr>\n",
       "    <tr>\n",
       "      <th>2</th>\n",
       "      <td>2</td>\n",
       "      <td>bellary</td>\n",
       "      <td>-46.5619</td>\n",
       "      <td>169.4708</td>\n",
       "      <td>59.68</td>\n",
       "      <td>61</td>\n",
       "      <td>100</td>\n",
       "      <td>12.08</td>\n",
       "      <td>NZ</td>\n",
       "      <td>1685059870</td>\n",
       "    </tr>\n",
       "    <tr>\n",
       "      <th>3</th>\n",
       "      <td>3</td>\n",
       "      <td>port elizabeth</td>\n",
       "      <td>-46.5619</td>\n",
       "      <td>169.4708</td>\n",
       "      <td>59.68</td>\n",
       "      <td>61</td>\n",
       "      <td>100</td>\n",
       "      <td>12.08</td>\n",
       "      <td>NZ</td>\n",
       "      <td>1685059870</td>\n",
       "    </tr>\n",
       "    <tr>\n",
       "      <th>4</th>\n",
       "      <td>4</td>\n",
       "      <td>lihue</td>\n",
       "      <td>-46.5619</td>\n",
       "      <td>169.4708</td>\n",
       "      <td>59.68</td>\n",
       "      <td>61</td>\n",
       "      <td>100</td>\n",
       "      <td>12.08</td>\n",
       "      <td>NZ</td>\n",
       "      <td>1685059870</td>\n",
       "    </tr>\n",
       "  </tbody>\n",
       "</table>\n",
       "</div>"
      ],
      "text/plain": [
       "   City_ID            City      Lat       Lng  Max Temp  Humidity  Cloudiness  \\\n",
       "0        0       papatowai -46.5619  169.4708     59.68        61         100   \n",
       "1        1       mossendjo -46.5619  169.4708     59.68        61         100   \n",
       "2        2         bellary -46.5619  169.4708     59.68        61         100   \n",
       "3        3  port elizabeth -46.5619  169.4708     59.68        61         100   \n",
       "4        4           lihue -46.5619  169.4708     59.68        61         100   \n",
       "\n",
       "   Wind Speed Country        Date  \n",
       "0       12.08      NZ  1685059870  \n",
       "1       12.08      NZ  1685059870  \n",
       "2       12.08      NZ  1685059870  \n",
       "3       12.08      NZ  1685059870  \n",
       "4       12.08      NZ  1685059870  "
      ]
     },
     "execution_count": 9,
     "metadata": {},
     "output_type": "execute_result"
    }
   ],
   "source": [
    "# Load the CSV file created in Part 1 into a Pandas DataFrame\n",
    "city_data_df = pd.read_csv(\"../output_data/cities.csv\")\n",
    "\n",
    "# Display sample data\n",
    "city_data_df.head()"
   ]
  },
  {
   "cell_type": "markdown",
   "metadata": {},
   "source": [
    "---\n",
    "\n",
    "### Step 1: Create a map that displays a point for every city in the `city_data_df` DataFrame. The size of the point should be the humidity in each city."
   ]
  },
  {
   "cell_type": "code",
   "execution_count": 10,
   "metadata": {},
   "outputs": [
    {
     "data": {},
     "metadata": {},
     "output_type": "display_data"
    },
    {
     "data": {
      "application/vnd.holoviews_exec.v0+json": "",
      "text/html": [
       "<div id='1203'>\n",
       "  <div class=\"bk-root\" id=\"0adcf4fc-dc11-4cbe-b193-e2d479df9dc5\" data-root-id=\"1203\"></div>\n",
       "</div>\n",
       "<script type=\"application/javascript\">(function(root) {\n",
       "  function embed_document(root) {\n",
       "    var docs_json = {\"470f2afc-c51c-4335-9e33-ee2940fa9e5f\":{\"defs\":[{\"extends\":null,\"module\":null,\"name\":\"ReactiveHTML1\",\"overrides\":[],\"properties\":[]},{\"extends\":null,\"module\":null,\"name\":\"FlexBox1\",\"overrides\":[],\"properties\":[{\"default\":\"flex-start\",\"kind\":null,\"name\":\"align_content\"},{\"default\":\"flex-start\",\"kind\":null,\"name\":\"align_items\"},{\"default\":\"row\",\"kind\":null,\"name\":\"flex_direction\"},{\"default\":\"wrap\",\"kind\":null,\"name\":\"flex_wrap\"},{\"default\":\"flex-start\",\"kind\":null,\"name\":\"justify_content\"}]},{\"extends\":null,\"module\":null,\"name\":\"GridStack1\",\"overrides\":[],\"properties\":[{\"default\":\"warn\",\"kind\":null,\"name\":\"mode\"},{\"default\":null,\"kind\":null,\"name\":\"ncols\"},{\"default\":null,\"kind\":null,\"name\":\"nrows\"},{\"default\":true,\"kind\":null,\"name\":\"allow_resize\"},{\"default\":true,\"kind\":null,\"name\":\"allow_drag\"},{\"default\":[],\"kind\":null,\"name\":\"state\"}]},{\"extends\":null,\"module\":null,\"name\":\"click1\",\"overrides\":[],\"properties\":[{\"default\":\"\",\"kind\":null,\"name\":\"terminal_output\"},{\"default\":\"\",\"kind\":null,\"name\":\"debug_name\"},{\"default\":0,\"kind\":null,\"name\":\"clears\"}]},{\"extends\":null,\"module\":null,\"name\":\"NotificationAreaBase1\",\"overrides\":[],\"properties\":[{\"default\":\"bottom-right\",\"kind\":null,\"name\":\"position\"},{\"default\":0,\"kind\":null,\"name\":\"_clear\"}]},{\"extends\":null,\"module\":null,\"name\":\"NotificationArea1\",\"overrides\":[],\"properties\":[{\"default\":[],\"kind\":null,\"name\":\"notifications\"},{\"default\":\"bottom-right\",\"kind\":null,\"name\":\"position\"},{\"default\":0,\"kind\":null,\"name\":\"_clear\"},{\"default\":[{\"background\":\"#ffc107\",\"icon\":{\"className\":\"fas fa-exclamation-triangle\",\"color\":\"white\",\"tagName\":\"i\"},\"type\":\"warning\"},{\"background\":\"#007bff\",\"icon\":{\"className\":\"fas fa-info-circle\",\"color\":\"white\",\"tagName\":\"i\"},\"type\":\"info\"}],\"kind\":null,\"name\":\"types\"}]},{\"extends\":null,\"module\":null,\"name\":\"Notification\",\"overrides\":[],\"properties\":[{\"default\":null,\"kind\":null,\"name\":\"background\"},{\"default\":3000,\"kind\":null,\"name\":\"duration\"},{\"default\":null,\"kind\":null,\"name\":\"icon\"},{\"default\":\"\",\"kind\":null,\"name\":\"message\"},{\"default\":null,\"kind\":null,\"name\":\"notification_type\"},{\"default\":false,\"kind\":null,\"name\":\"_destroyed\"}]},{\"extends\":null,\"module\":null,\"name\":\"TemplateActions1\",\"overrides\":[],\"properties\":[{\"default\":0,\"kind\":null,\"name\":\"open_modal\"},{\"default\":0,\"kind\":null,\"name\":\"close_modal\"}]},{\"extends\":null,\"module\":null,\"name\":\"MaterialTemplateActions1\",\"overrides\":[],\"properties\":[{\"default\":0,\"kind\":null,\"name\":\"open_modal\"},{\"default\":0,\"kind\":null,\"name\":\"close_modal\"}]}],\"roots\":{\"references\":[{\"attributes\":{\"fill_color\":{\"field\":\"color\",\"transform\":{\"id\":\"1278\"}},\"hatch_color\":{\"field\":\"color\",\"transform\":{\"id\":\"1278\"}},\"line_color\":{\"field\":\"color\",\"transform\":{\"id\":\"1278\"}},\"size\":{\"field\":\"size\"},\"x\":{\"field\":\"Lng\"},\"y\":{\"field\":\"Lat\"}},\"id\":\"1282\",\"type\":\"Scatter\"},{\"attributes\":{\"fill_color\":{\"field\":\"color\",\"transform\":{\"id\":\"1278\"}},\"hatch_color\":{\"field\":\"color\",\"transform\":{\"id\":\"1278\"}},\"line_color\":{\"field\":\"color\",\"transform\":{\"id\":\"1278\"}},\"size\":{\"field\":\"size\"},\"x\":{\"field\":\"Lng\"},\"y\":{\"field\":\"Lat\"}},\"id\":\"1285\",\"type\":\"Scatter\"},{\"attributes\":{\"coordinates\":null,\"group\":null,\"text_color\":\"black\",\"text_font_size\":\"12pt\"},\"id\":\"1216\",\"type\":\"Title\"},{\"attributes\":{},\"id\":\"1233\",\"type\":\"PanTool\"},{\"attributes\":{\"label\":{\"field\":\"color\"},\"renderers\":[{\"id\":\"1287\"}]},\"id\":\"1296\",\"type\":\"LegendItem\"},{\"attributes\":{},\"id\":\"1280\",\"type\":\"Selection\"},{\"attributes\":{\"code\":\"\\n        var projections = Bokeh.require(\\\"core/util/projections\\\");\\n        var x = special_vars.data_x\\n        var y = special_vars.data_y\\n        var coords = projections.wgs84_mercator.invert(x, y)\\n        return \\\"\\\" + (coords[0]).toFixed(4)\\n    \"},\"id\":\"1297\",\"type\":\"CustomJSHover\"},{\"attributes\":{\"axis_label\":\"y\",\"coordinates\":null,\"formatter\":{\"id\":\"1250\"},\"group\":null,\"major_label_policy\":{\"id\":\"1260\"},\"ticker\":{\"id\":\"1249\"}},\"id\":\"1228\",\"type\":\"LinearAxis\"},{\"attributes\":{\"axis\":{\"id\":\"1228\"},\"coordinates\":null,\"dimension\":1,\"grid_line_color\":null,\"group\":null,\"ticker\":null},\"id\":\"1231\",\"type\":\"Grid\"},{\"attributes\":{\"zoom_on_axis\":false},\"id\":\"1234\",\"type\":\"WheelZoomTool\"},{\"attributes\":{\"click_policy\":\"mute\",\"coordinates\":null,\"group\":null,\"items\":[{\"id\":\"1296\"}],\"location\":[0,0]},\"id\":\"1295\",\"type\":\"Legend\"},{\"attributes\":{},\"id\":\"1232\",\"type\":\"SaveTool\"},{\"attributes\":{\"match_aspect\":true,\"overlay\":{\"id\":\"1237\"}},\"id\":\"1235\",\"type\":\"BoxZoomTool\"},{\"attributes\":{\"code\":\"\\n        var projections = Bokeh.require(\\\"core/util/projections\\\");\\n        var x = special_vars.data_x\\n        var y = special_vars.data_y\\n        var coords = projections.wgs84_mercator.invert(x, y)\\n        return \\\"\\\" + (coords[1]).toFixed(4)\\n    \"},\"id\":\"1298\",\"type\":\"CustomJSHover\"},{\"attributes\":{},\"id\":\"1236\",\"type\":\"ResetTool\"},{\"attributes\":{\"factors\":[\"NZ\",\"IR\",\"MX\",\"GB\",\"DZ\",\"KZ\",\"AR\",\"ID\",\"CL\",\"PT\",\"CN\"],\"palette\":[\"#1f77b3\",\"#ff7e0e\",\"#2ba02b\",\"#d62628\",\"#9367bc\",\"#8c564b\",\"#e277c1\",\"#7e7e7e\",\"#bcbc21\",\"#16bdcf\",\"#3a0182\"]},\"id\":\"1278\",\"type\":\"CategoricalColorMapper\"},{\"attributes\":{\"fill_color\":{\"field\":\"color\",\"transform\":{\"id\":\"1278\"}},\"hatch_color\":{\"field\":\"color\",\"transform\":{\"id\":\"1278\"}},\"line_color\":{\"field\":\"color\",\"transform\":{\"id\":\"1278\"}},\"size\":{\"field\":\"size\"},\"x\":{\"field\":\"Lng\"},\"y\":{\"field\":\"Lat\"}},\"id\":\"1284\",\"type\":\"Scatter\"},{\"attributes\":{\"bottom_units\":\"screen\",\"coordinates\":null,\"fill_alpha\":0.5,\"fill_color\":\"lightgrey\",\"group\":null,\"left_units\":\"screen\",\"level\":\"overlay\",\"line_alpha\":1.0,\"line_color\":\"black\",\"line_dash\":[4,4],\"line_width\":2,\"right_units\":\"screen\",\"syncable\":false,\"top_units\":\"screen\"},\"id\":\"1237\",\"type\":\"BoxAnnotation\"},{\"attributes\":{\"coordinates\":null,\"data_source\":{\"id\":\"1279\"},\"glyph\":{\"id\":\"1282\"},\"group\":null,\"hover_glyph\":{\"id\":\"1285\"},\"muted_glyph\":{\"id\":\"1286\"},\"nonselection_glyph\":{\"id\":\"1283\"},\"selection_glyph\":{\"id\":\"1284\"},\"view\":{\"id\":\"1288\"}},\"id\":\"1287\",\"type\":\"GlyphRenderer\"},{\"attributes\":{},\"id\":\"1253\",\"type\":\"AllLabels\"},{\"attributes\":{\"end\":22049557.911523495,\"min_interval\":5,\"reset_end\":22049557.911523495,\"reset_start\":-16160300.438647052,\"start\":-16160300.438647052,\"tags\":[[[\"Lng\",\"Lng\",null]]]},\"id\":\"1208\",\"type\":\"Range1d\"},{\"attributes\":{\"data\":{\"Country\":[\"NZ\",\"NZ\",\"NZ\",\"NZ\",\"NZ\",\"NZ\",\"NZ\",\"NZ\",\"NZ\",\"NZ\",\"NZ\",\"NZ\",\"NZ\",\"NZ\",\"NZ\",\"NZ\",\"NZ\",\"NZ\",\"NZ\",\"NZ\",\"NZ\",\"NZ\",\"NZ\",\"NZ\",\"NZ\",\"NZ\",\"NZ\",\"NZ\",\"NZ\",\"NZ\",\"NZ\",\"NZ\",\"NZ\",\"NZ\",\"NZ\",\"NZ\",\"NZ\",\"NZ\",\"NZ\",\"NZ\",\"NZ\",\"NZ\",\"NZ\",\"NZ\",\"NZ\",\"NZ\",\"NZ\",\"NZ\",\"NZ\",\"NZ\",\"IR\",\"IR\",\"IR\",\"IR\",\"IR\",\"IR\",\"IR\",\"IR\",\"IR\",\"IR\",\"IR\",\"IR\",\"IR\",\"IR\",\"IR\",\"IR\",\"IR\",\"IR\",\"IR\",\"IR\",\"IR\",\"IR\",\"IR\",\"IR\",\"IR\",\"IR\",\"IR\",\"IR\",\"IR\",\"IR\",\"IR\",\"IR\",\"IR\",\"IR\",\"IR\",\"IR\",\"IR\",\"IR\",\"IR\",\"IR\",\"IR\",\"IR\",\"IR\",\"IR\",\"IR\",\"IR\",\"IR\",\"IR\",\"IR\",\"IR\",\"MX\",\"MX\",\"MX\",\"MX\",\"MX\",\"MX\",\"MX\",\"MX\",\"MX\",\"MX\",\"MX\",\"MX\",\"MX\",\"MX\",\"MX\",\"MX\",\"MX\",\"MX\",\"MX\",\"MX\",\"MX\",\"MX\",\"MX\",\"MX\",\"MX\",\"MX\",\"MX\",\"MX\",\"MX\",\"MX\",\"MX\",\"MX\",\"MX\",\"MX\",\"MX\",\"MX\",\"MX\",\"MX\",\"MX\",\"MX\",\"MX\",\"MX\",\"MX\",\"MX\",\"MX\",\"MX\",\"MX\",\"MX\",\"MX\",\"MX\",\"GB\",\"GB\",\"GB\",\"GB\",\"GB\",\"GB\",\"GB\",\"GB\",\"GB\",\"GB\",\"GB\",\"GB\",\"GB\",\"GB\",\"GB\",\"GB\",\"GB\",\"GB\",\"GB\",\"GB\",\"GB\",\"GB\",\"GB\",\"GB\",\"GB\",\"GB\",\"GB\",\"GB\",\"GB\",\"GB\",\"GB\",\"GB\",\"GB\",\"GB\",\"GB\",\"GB\",\"GB\",\"GB\",\"GB\",\"GB\",\"GB\",\"GB\",\"GB\",\"GB\",\"GB\",\"GB\",\"GB\",\"GB\",\"GB\",\"GB\",\"DZ\",\"DZ\",\"DZ\",\"DZ\",\"DZ\",\"DZ\",\"DZ\",\"DZ\",\"DZ\",\"DZ\",\"DZ\",\"DZ\",\"DZ\",\"DZ\",\"DZ\",\"DZ\",\"DZ\",\"DZ\",\"DZ\",\"DZ\",\"DZ\",\"DZ\",\"DZ\",\"DZ\",\"DZ\",\"DZ\",\"DZ\",\"DZ\",\"DZ\",\"DZ\",\"DZ\",\"DZ\",\"DZ\",\"DZ\",\"DZ\",\"DZ\",\"DZ\",\"DZ\",\"DZ\",\"DZ\",\"DZ\",\"DZ\",\"DZ\",\"DZ\",\"DZ\",\"DZ\",\"DZ\",\"DZ\",\"DZ\",\"DZ\",\"KZ\",\"KZ\",\"KZ\",\"KZ\",\"KZ\",\"KZ\",\"KZ\",\"KZ\",\"KZ\",\"KZ\",\"KZ\",\"KZ\",\"KZ\",\"KZ\",\"KZ\",\"KZ\",\"KZ\",\"KZ\",\"KZ\",\"KZ\",\"KZ\",\"KZ\",\"KZ\",\"KZ\",\"KZ\",\"KZ\",\"KZ\",\"KZ\",\"KZ\",\"KZ\",\"KZ\",\"KZ\",\"KZ\",\"KZ\",\"KZ\",\"KZ\",\"KZ\",\"KZ\",\"KZ\",\"KZ\",\"KZ\",\"KZ\",\"KZ\",\"KZ\",\"KZ\",\"KZ\",\"KZ\",\"KZ\",\"KZ\",\"KZ\",\"AR\",\"AR\",\"AR\",\"AR\",\"AR\",\"AR\",\"AR\",\"AR\",\"AR\",\"AR\",\"AR\",\"AR\",\"AR\",\"AR\",\"AR\",\"AR\",\"AR\",\"AR\",\"AR\",\"AR\",\"AR\",\"AR\",\"AR\",\"AR\",\"AR\",\"AR\",\"AR\",\"AR\",\"AR\",\"AR\",\"AR\",\"AR\",\"AR\",\"AR\",\"AR\",\"AR\",\"AR\",\"AR\",\"AR\",\"AR\",\"AR\",\"AR\",\"AR\",\"AR\",\"AR\",\"AR\",\"AR\",\"AR\",\"AR\",\"AR\",\"ID\",\"ID\",\"ID\",\"ID\",\"ID\",\"ID\",\"ID\",\"ID\",\"ID\",\"ID\",\"ID\",\"ID\",\"ID\",\"ID\",\"ID\",\"ID\",\"ID\",\"ID\",\"ID\",\"ID\",\"ID\",\"ID\",\"ID\",\"ID\",\"ID\",\"ID\",\"ID\",\"ID\",\"ID\",\"ID\",\"ID\",\"ID\",\"ID\",\"ID\",\"ID\",\"ID\",\"ID\",\"ID\",\"ID\",\"ID\",\"ID\",\"ID\",\"ID\",\"ID\",\"ID\",\"ID\",\"ID\",\"ID\",\"ID\",\"ID\",\"CL\",\"CL\",\"CL\",\"CL\",\"CL\",\"CL\",\"CL\",\"CL\",\"CL\",\"CL\",\"CL\",\"CL\",\"CL\",\"CL\",\"CL\",\"CL\",\"CL\",\"CL\",\"CL\",\"CL\",\"CL\",\"CL\",\"CL\",\"CL\",\"CL\",\"CL\",\"CL\",\"CL\",\"CL\",\"CL\",\"CL\",\"CL\",\"CL\",\"CL\",\"CL\",\"CL\",\"CL\",\"CL\",\"CL\",\"CL\",\"CL\",\"CL\",\"CL\",\"CL\",\"CL\",\"CL\",\"CL\",\"CL\",\"CL\",\"CL\",\"MX\",\"MX\",\"MX\",\"MX\",\"MX\",\"MX\",\"MX\",\"MX\",\"MX\",\"MX\",\"MX\",\"MX\",\"MX\",\"MX\",\"MX\",\"MX\",\"MX\",\"MX\",\"MX\",\"MX\",\"MX\",\"MX\",\"MX\",\"MX\",\"MX\",\"MX\",\"MX\",\"MX\",\"MX\",\"MX\",\"MX\",\"MX\",\"MX\",\"MX\",\"MX\",\"MX\",\"MX\",\"MX\",\"MX\",\"MX\",\"MX\",\"MX\",\"MX\",\"MX\",\"MX\",\"MX\",\"MX\",\"MX\",\"MX\",\"MX\",\"PT\",\"PT\",\"PT\",\"PT\",\"PT\",\"PT\",\"PT\",\"PT\",\"PT\",\"PT\",\"PT\",\"PT\",\"PT\",\"PT\",\"PT\",\"PT\",\"PT\",\"PT\",\"PT\",\"PT\",\"PT\",\"PT\",\"PT\",\"PT\",\"PT\",\"PT\",\"PT\",\"PT\",\"PT\",\"PT\",\"PT\",\"PT\",\"PT\",\"PT\",\"PT\",\"PT\",\"PT\",\"PT\",\"PT\",\"PT\",\"PT\",\"PT\",\"PT\",\"PT\",\"PT\",\"PT\",\"PT\",\"PT\",\"PT\",\"PT\",\"CN\",\"CN\",\"CN\",\"CN\",\"CN\",\"CN\",\"CN\",\"CN\"],\"Humidity\":[61,61,61,61,61,61,61,61,61,61,61,61,61,61,61,61,61,61,61,61,61,61,61,61,61,61,61,61,61,61,61,61,61,61,61,61,61,61,61,61,61,61,61,61,61,61,61,61,61,61,17,17,17,17,17,17,17,17,17,17,17,17,17,17,17,17,17,17,17,17,17,17,17,17,17,17,17,17,17,17,17,17,17,17,17,17,17,17,17,17,17,17,17,17,17,17,17,17,17,17,54,54,54,54,54,54,54,54,54,54,54,54,54,54,54,54,54,54,54,54,54,54,54,54,54,54,54,54,54,54,54,54,54,54,54,54,54,54,54,54,54,54,54,54,54,54,54,54,54,54,85,85,85,85,85,85,85,85,85,85,85,85,85,85,85,85,85,85,85,85,85,85,85,85,85,85,85,85,85,85,85,85,85,85,85,85,85,85,85,85,85,85,85,85,85,85,85,85,85,85,11,11,11,11,11,11,11,11,11,11,11,11,11,11,11,11,11,11,11,11,11,11,11,11,11,11,11,11,11,11,11,11,11,11,11,11,11,11,11,11,11,11,11,11,11,11,11,11,11,11,40,40,40,40,40,40,40,40,40,40,40,40,40,40,40,40,40,40,40,40,40,40,40,40,40,40,40,40,40,40,40,40,40,40,40,40,40,40,40,40,40,40,40,40,40,40,40,40,40,40,96,96,96,96,96,96,96,96,96,96,96,96,96,96,96,96,96,96,96,96,96,96,96,96,96,96,96,96,96,96,96,96,96,96,96,96,96,96,96,96,96,96,96,96,96,96,96,96,96,96,87,87,87,87,87,87,87,87,87,87,87,87,87,87,87,87,87,87,87,87,87,87,87,87,87,87,87,87,87,87,87,87,87,87,87,87,87,87,87,87,87,87,87,87,87,87,87,87,87,87,70,70,70,70,70,70,70,70,70,70,70,70,70,70,70,70,70,70,70,70,70,70,70,70,70,70,70,70,70,70,70,70,70,70,70,70,70,70,70,70,70,70,70,70,70,70,70,70,70,70,65,65,65,65,65,65,65,65,65,65,65,65,65,65,65,65,65,65,65,65,65,65,65,65,65,65,65,65,65,65,65,65,65,65,65,65,65,65,65,65,65,65,65,65,65,65,65,65,65,65,79,79,79,79,79,79,79,79,79,79,79,79,79,79,79,79,79,79,79,79,79,79,79,79,79,79,79,79,79,79,79,79,79,79,79,79,79,79,79,79,79,79,79,79,79,79,79,79,79,79,56,56,56,56,56,56,56,56],\"Lat\":{\"__ndarray__\":\"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\",\"dtype\":\"float64\",\"order\":\"little\",\"shape\":[558]},\"Lng\":{\"__ndarray__\":\"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\",\"dtype\":\"float64\",\"order\":\"little\",\"shape\":[558]},\"color\":[\"NZ\",\"NZ\",\"NZ\",\"NZ\",\"NZ\",\"NZ\",\"NZ\",\"NZ\",\"NZ\",\"NZ\",\"NZ\",\"NZ\",\"NZ\",\"NZ\",\"NZ\",\"NZ\",\"NZ\",\"NZ\",\"NZ\",\"NZ\",\"NZ\",\"NZ\",\"NZ\",\"NZ\",\"NZ\",\"NZ\",\"NZ\",\"NZ\",\"NZ\",\"NZ\",\"NZ\",\"NZ\",\"NZ\",\"NZ\",\"NZ\",\"NZ\",\"NZ\",\"NZ\",\"NZ\",\"NZ\",\"NZ\",\"NZ\",\"NZ\",\"NZ\",\"NZ\",\"NZ\",\"NZ\",\"NZ\",\"NZ\",\"NZ\",\"IR\",\"IR\",\"IR\",\"IR\",\"IR\",\"IR\",\"IR\",\"IR\",\"IR\",\"IR\",\"IR\",\"IR\",\"IR\",\"IR\",\"IR\",\"IR\",\"IR\",\"IR\",\"IR\",\"IR\",\"IR\",\"IR\",\"IR\",\"IR\",\"IR\",\"IR\",\"IR\",\"IR\",\"IR\",\"IR\",\"IR\",\"IR\",\"IR\",\"IR\",\"IR\",\"IR\",\"IR\",\"IR\",\"IR\",\"IR\",\"IR\",\"IR\",\"IR\",\"IR\",\"IR\",\"IR\",\"IR\",\"IR\",\"IR\",\"IR\",\"MX\",\"MX\",\"MX\",\"MX\",\"MX\",\"MX\",\"MX\",\"MX\",\"MX\",\"MX\",\"MX\",\"MX\",\"MX\",\"MX\",\"MX\",\"MX\",\"MX\",\"MX\",\"MX\",\"MX\",\"MX\",\"MX\",\"MX\",\"MX\",\"MX\",\"MX\",\"MX\",\"MX\",\"MX\",\"MX\",\"MX\",\"MX\",\"MX\",\"MX\",\"MX\",\"MX\",\"MX\",\"MX\",\"MX\",\"MX\",\"MX\",\"MX\",\"MX\",\"MX\",\"MX\",\"MX\",\"MX\",\"MX\",\"MX\",\"MX\",\"GB\",\"GB\",\"GB\",\"GB\",\"GB\",\"GB\",\"GB\",\"GB\",\"GB\",\"GB\",\"GB\",\"GB\",\"GB\",\"GB\",\"GB\",\"GB\",\"GB\",\"GB\",\"GB\",\"GB\",\"GB\",\"GB\",\"GB\",\"GB\",\"GB\",\"GB\",\"GB\",\"GB\",\"GB\",\"GB\",\"GB\",\"GB\",\"GB\",\"GB\",\"GB\",\"GB\",\"GB\",\"GB\",\"GB\",\"GB\",\"GB\",\"GB\",\"GB\",\"GB\",\"GB\",\"GB\",\"GB\",\"GB\",\"GB\",\"GB\",\"DZ\",\"DZ\",\"DZ\",\"DZ\",\"DZ\",\"DZ\",\"DZ\",\"DZ\",\"DZ\",\"DZ\",\"DZ\",\"DZ\",\"DZ\",\"DZ\",\"DZ\",\"DZ\",\"DZ\",\"DZ\",\"DZ\",\"DZ\",\"DZ\",\"DZ\",\"DZ\",\"DZ\",\"DZ\",\"DZ\",\"DZ\",\"DZ\",\"DZ\",\"DZ\",\"DZ\",\"DZ\",\"DZ\",\"DZ\",\"DZ\",\"DZ\",\"DZ\",\"DZ\",\"DZ\",\"DZ\",\"DZ\",\"DZ\",\"DZ\",\"DZ\",\"DZ\",\"DZ\",\"DZ\",\"DZ\",\"DZ\",\"DZ\",\"KZ\",\"KZ\",\"KZ\",\"KZ\",\"KZ\",\"KZ\",\"KZ\",\"KZ\",\"KZ\",\"KZ\",\"KZ\",\"KZ\",\"KZ\",\"KZ\",\"KZ\",\"KZ\",\"KZ\",\"KZ\",\"KZ\",\"KZ\",\"KZ\",\"KZ\",\"KZ\",\"KZ\",\"KZ\",\"KZ\",\"KZ\",\"KZ\",\"KZ\",\"KZ\",\"KZ\",\"KZ\",\"KZ\",\"KZ\",\"KZ\",\"KZ\",\"KZ\",\"KZ\",\"KZ\",\"KZ\",\"KZ\",\"KZ\",\"KZ\",\"KZ\",\"KZ\",\"KZ\",\"KZ\",\"KZ\",\"KZ\",\"KZ\",\"AR\",\"AR\",\"AR\",\"AR\",\"AR\",\"AR\",\"AR\",\"AR\",\"AR\",\"AR\",\"AR\",\"AR\",\"AR\",\"AR\",\"AR\",\"AR\",\"AR\",\"AR\",\"AR\",\"AR\",\"AR\",\"AR\",\"AR\",\"AR\",\"AR\",\"AR\",\"AR\",\"AR\",\"AR\",\"AR\",\"AR\",\"AR\",\"AR\",\"AR\",\"AR\",\"AR\",\"AR\",\"AR\",\"AR\",\"AR\",\"AR\",\"AR\",\"AR\",\"AR\",\"AR\",\"AR\",\"AR\",\"AR\",\"AR\",\"AR\",\"ID\",\"ID\",\"ID\",\"ID\",\"ID\",\"ID\",\"ID\",\"ID\",\"ID\",\"ID\",\"ID\",\"ID\",\"ID\",\"ID\",\"ID\",\"ID\",\"ID\",\"ID\",\"ID\",\"ID\",\"ID\",\"ID\",\"ID\",\"ID\",\"ID\",\"ID\",\"ID\",\"ID\",\"ID\",\"ID\",\"ID\",\"ID\",\"ID\",\"ID\",\"ID\",\"ID\",\"ID\",\"ID\",\"ID\",\"ID\",\"ID\",\"ID\",\"ID\",\"ID\",\"ID\",\"ID\",\"ID\",\"ID\",\"ID\",\"ID\",\"CL\",\"CL\",\"CL\",\"CL\",\"CL\",\"CL\",\"CL\",\"CL\",\"CL\",\"CL\",\"CL\",\"CL\",\"CL\",\"CL\",\"CL\",\"CL\",\"CL\",\"CL\",\"CL\",\"CL\",\"CL\",\"CL\",\"CL\",\"CL\",\"CL\",\"CL\",\"CL\",\"CL\",\"CL\",\"CL\",\"CL\",\"CL\",\"CL\",\"CL\",\"CL\",\"CL\",\"CL\",\"CL\",\"CL\",\"CL\",\"CL\",\"CL\",\"CL\",\"CL\",\"CL\",\"CL\",\"CL\",\"CL\",\"CL\",\"CL\",\"MX\",\"MX\",\"MX\",\"MX\",\"MX\",\"MX\",\"MX\",\"MX\",\"MX\",\"MX\",\"MX\",\"MX\",\"MX\",\"MX\",\"MX\",\"MX\",\"MX\",\"MX\",\"MX\",\"MX\",\"MX\",\"MX\",\"MX\",\"MX\",\"MX\",\"MX\",\"MX\",\"MX\",\"MX\",\"MX\",\"MX\",\"MX\",\"MX\",\"MX\",\"MX\",\"MX\",\"MX\",\"MX\",\"MX\",\"MX\",\"MX\",\"MX\",\"MX\",\"MX\",\"MX\",\"MX\",\"MX\",\"MX\",\"MX\",\"MX\",\"PT\",\"PT\",\"PT\",\"PT\",\"PT\",\"PT\",\"PT\",\"PT\",\"PT\",\"PT\",\"PT\",\"PT\",\"PT\",\"PT\",\"PT\",\"PT\",\"PT\",\"PT\",\"PT\",\"PT\",\"PT\",\"PT\",\"PT\",\"PT\",\"PT\",\"PT\",\"PT\",\"PT\",\"PT\",\"PT\",\"PT\",\"PT\",\"PT\",\"PT\",\"PT\",\"PT\",\"PT\",\"PT\",\"PT\",\"PT\",\"PT\",\"PT\",\"PT\",\"PT\",\"PT\",\"PT\",\"PT\",\"PT\",\"PT\",\"PT\",\"CN\",\"CN\",\"CN\",\"CN\",\"CN\",\"CN\",\"CN\",\"CN\"],\"size\":{\"__ndarray__\":\"aHROF7I9H0BodE4Xsj0fQGh0TheyPR9AaHROF7I9H0BodE4Xsj0fQGh0TheyPR9AaHROF7I9H0BodE4Xsj0fQGh0TheyPR9AaHROF7I9H0BodE4Xsj0fQGh0TheyPR9AaHROF7I9H0BodE4Xsj0fQGh0TheyPR9AaHROF7I9H0BodE4Xsj0fQGh0TheyPR9AaHROF7I9H0BodE4Xsj0fQGh0TheyPR9AaHROF7I9H0BodE4Xsj0fQGh0TheyPR9AaHROF7I9H0BodE4Xsj0fQGh0TheyPR9AaHROF7I9H0BodE4Xsj0fQGh0TheyPR9AaHROF7I9H0BodE4Xsj0fQGh0TheyPR9AaHROF7I9H0BodE4Xsj0fQGh0TheyPR9AaHROF7I9H0BodE4Xsj0fQGh0TheyPR9AaHROF7I9H0BodE4Xsj0fQGh0TheyPR9AaHROF7I9H0BodE4Xsj0fQGh0TheyPR9AaHROF7I9H0BodE4Xsj0fQGh0TheyPR9AaHROF7I9H0BodE4Xsj0fQAftr2YPfhBAB+2vZg9+EEAH7a9mD34QQAftr2YPfhBAB+2vZg9+EEAH7a9mD34QQAftr2YPfhBAB+2vZg9+EEAH7a9mD34QQAftr2YPfhBAB+2vZg9+EEAH7a9mD34QQAftr2YPfhBAB+2vZg9+EEAH7a9mD34QQAftr2YPfhBAB+2vZg9+EEAH7a9mD34QQAftr2YPfhBAB+2vZg9+EEAH7a9mD34QQAftr2YPfhBAB+2vZg9+EEAH7a9mD34QQAftr2YPfhBAB+2vZg9+EEAH7a9mD34QQAftr2YPfhBAB+2vZg9+EEAH7a9mD34QQAftr2YPfhBAB+2vZg9+EEAH7a9mD34QQAftr2YPfhBAB+2vZg9+EEAH7a9mD34QQAftr2YPfhBAB+2vZg9+EEAH7a9mD34QQAftr2YPfhBAB+2vZg9+EEAH7a9mD34QQAftr2YPfhBAB+2vZg9+EEAH7a9mD34QQAftr2YPfhBAB+2vZg9+EEAH7a9mD34QQAftr2YPfhBAB+2vZg9+EEDGsQ0e1WQdQMaxDR7VZB1AxrENHtVkHUDGsQ0e1WQdQMaxDR7VZB1AxrENHtVkHUDGsQ0e1WQdQMaxDR7VZB1AxrENHtVkHUDGsQ0e1WQdQMaxDR7VZB1AxrENHtVkHUDGsQ0e1WQdQMaxDR7VZB1AxrENHtVkHUDGsQ0e1WQdQMaxDR7VZB1AxrENHtVkHUDGsQ0e1WQdQMaxDR7VZB1AxrENHtVkHUDGsQ0e1WQdQMaxDR7VZB1AxrENHtVkHUDGsQ0e1WQdQMaxDR7VZB1AxrENHtVkHUDGsQ0e1WQdQMaxDR7VZB1AxrENHtVkHUDGsQ0e1WQdQMaxDR7VZB1AxrENHtVkHUDGsQ0e1WQdQMaxDR7VZB1AxrENHtVkHUDGsQ0e1WQdQMaxDR7VZB1AxrENHtVkHUDGsQ0e1WQdQMaxDR7VZB1AxrENHtVkHUDGsQ0e1WQdQMaxDR7VZB1AxrENHtVkHUDGsQ0e1WQdQMaxDR7VZB1AxrENHtVkHUDGsQ0e1WQdQMaxDR7VZB1Ami6QIWhwIkCaLpAhaHAiQJoukCFocCJAmi6QIWhwIkCaLpAhaHAiQJoukCFocCJAmi6QIWhwIkCaLpAhaHAiQJoukCFocCJAmi6QIWhwIkCaLpAhaHAiQJoukCFocCJAmi6QIWhwIkCaLpAhaHAiQJoukCFocCJAmi6QIWhwIkCaLpAhaHAiQJoukCFocCJAmi6QIWhwIkCaLpAhaHAiQJoukCFocCJAmi6QIWhwIkCaLpAhaHAiQJoukCFocCJAmi6QIWhwIkCaLpAhaHAiQJoukCFocCJAmi6QIWhwIkCaLpAhaHAiQJoukCFocCJAmi6QIWhwIkCaLpAhaHAiQJoukCFocCJAmi6QIWhwIkCaLpAhaHAiQJoukCFocCJAmi6QIWhwIkCaLpAhaHAiQJoukCFocCJAmi6QIWhwIkCaLpAhaHAiQJoukCFocCJAmi6QIWhwIkCaLpAhaHAiQJoukCFocCJAmi6QIWhwIkCaLpAhaHAiQJoukCFocCJAmi6QIWhwIkCaLpAhaHAiQDRv/ZNyiApANG/9k3KICkA0b/2TcogKQDRv/ZNyiApANG/9k3KICkA0b/2TcogKQDRv/ZNyiApANG/9k3KICkA0b/2TcogKQDRv/ZNyiApANG/9k3KICkA0b/2TcogKQDRv/ZNyiApANG/9k3KICkA0b/2TcogKQDRv/ZNyiApANG/9k3KICkA0b/2TcogKQDRv/ZNyiApANG/9k3KICkA0b/2TcogKQDRv/ZNyiApANG/9k3KICkA0b/2TcogKQDRv/ZNyiApANG/9k3KICkA0b/2TcogKQDRv/ZNyiApANG/9k3KICkA0b/2TcogKQDRv/ZNyiApANG/9k3KICkA0b/2TcogKQDRv/ZNyiApANG/9k3KICkA0b/2TcogKQDRv/ZNyiApANG/9k3KICkA0b/2TcogKQDRv/ZNyiApANG/9k3KICkA0b/2TcogKQDRv/ZNyiApANG/9k3KICkA0b/2TcogKQDRv/ZNyiApANG/9k3KICkA0b/2TcogKQDRv/ZNyiApANG/9k3KICkBTW9o6WEwZQFNb2jpYTBlAU1vaOlhMGUBTW9o6WEwZQFNb2jpYTBlAU1vaOlhMGUBTW9o6WEwZQFNb2jpYTBlAU1vaOlhMGUBTW9o6WEwZQFNb2jpYTBlAU1vaOlhMGUBTW9o6WEwZQFNb2jpYTBlAU1vaOlhMGUBTW9o6WEwZQFNb2jpYTBlAU1vaOlhMGUBTW9o6WEwZQFNb2jpYTBlAU1vaOlhMGUBTW9o6WEwZQFNb2jpYTBlAU1vaOlhMGUBTW9o6WEwZQFNb2jpYTBlAU1vaOlhMGUBTW9o6WEwZQFNb2jpYTBlAU1vaOlhMGUBTW9o6WEwZQFNb2jpYTBlAU1vaOlhMGUBTW9o6WEwZQFNb2jpYTBlAU1vaOlhMGUBTW9o6WEwZQFNb2jpYTBlAU1vaOlhMGUBTW9o6WEwZQFNb2jpYTBlAU1vaOlhMGUBTW9o6WEwZQFNb2jpYTBlAU1vaOlhMGUBTW9o6WEwZQFNb2jpYTBlAU1vaOlhMGUBTW9o6WEwZQFNb2jpYTBlALiEJFI6YI0AuIQkUjpgjQC4hCRSOmCNALiEJFI6YI0AuIQkUjpgjQC4hCRSOmCNALiEJFI6YI0AuIQkUjpgjQC4hCRSOmCNALiEJFI6YI0AuIQkUjpgjQC4hCRSOmCNALiEJFI6YI0AuIQkUjpgjQC4hCRSOmCNALiEJFI6YI0AuIQkUjpgjQC4hCRSOmCNALiEJFI6YI0AuIQkUjpgjQC4hCRSOmCNALiEJFI6YI0AuIQkUjpgjQC4hCRSOmCNALiEJFI6YI0AuIQkUjpgjQC4hCRSOmCNALiEJFI6YI0AuIQkUjpgjQC4hCRSOmCNALiEJFI6YI0AuIQkUjpgjQC4hCRSOmCNALiEJFI6YI0AuIQkUjpgjQC4hCRSOmCNALiEJFI6YI0AuIQkUjpgjQC4hCRSOmCNALiEJFI6YI0AuIQkUjpgjQC4hCRSOmCNALiEJFI6YI0AuIQkUjpgjQC4hCRSOmCNALiEJFI6YI0AuIQkUjpgjQC4hCRSOmCNALiEJFI6YI0AuIQkUjpgjQObSLDqepyJA5tIsOp6nIkDm0iw6nqciQObSLDqepyJA5tIsOp6nIkDm0iw6nqciQObSLDqepyJA5tIsOp6nIkDm0iw6nqciQObSLDqepyJA5tIsOp6nIkDm0iw6nqciQObSLDqepyJA5tIsOp6nIkDm0iw6nqciQObSLDqepyJA5tIsOp6nIkDm0iw6nqciQObSLDqepyJA5tIsOp6nIkDm0iw6nqciQObSLDqepyJA5tIsOp6nIkDm0iw6nqciQObSLDqepyJA5tIsOp6nIkDm0iw6nqciQObSLDqepyJA5tIsOp6nIkDm0iw6nqciQObSLDqepyJA5tIsOp6nIkDm0iw6nqciQObSLDqepyJA5tIsOp6nIkDm0iw6nqciQObSLDqepyJA5tIsOp6nIkDm0iw6nqciQObSLDqepyJA5tIsOp6nIkDm0iw6nqciQObSLDqepyJA5tIsOp6nIkDm0iw6nqciQObSLDqepyJA5tIsOp6nIkDm0iw6nqciQObSLDqepyJA5tIsOp6nIkDbr6wHs7sgQNuvrAezuyBA26+sB7O7IEDbr6wHs7sgQNuvrAezuyBA26+sB7O7IEDbr6wHs7sgQNuvrAezuyBA26+sB7O7IEDbr6wHs7sgQNuvrAezuyBA26+sB7O7IEDbr6wHs7sgQNuvrAezuyBA26+sB7O7IEDbr6wHs7sgQNuvrAezuyBA26+sB7O7IEDbr6wHs7sgQNuvrAezuyBA26+sB7O7IEDbr6wHs7sgQNuvrAezuyBA26+sB7O7IEDbr6wHs7sgQNuvrAezuyBA26+sB7O7IEDbr6wHs7sgQNuvrAezuyBA26+sB7O7IEDbr6wHs7sgQNuvrAezuyBA26+sB7O7IEDbr6wHs7sgQNuvrAezuyBA26+sB7O7IEDbr6wHs7sgQNuvrAezuyBA26+sB7O7IEDbr6wHs7sgQNuvrAezuyBA26+sB7O7IEDbr6wHs7sgQNuvrAezuyBA26+sB7O7IEDbr6wHs7sgQNuvrAezuyBA26+sB7O7IEDbr6wHs7sgQNuvrAezuyBA0LphP+AfIEDQumE/4B8gQNC6YT/gHyBA0LphP+AfIEDQumE/4B8gQNC6YT/gHyBA0LphP+AfIEDQumE/4B8gQNC6YT/gHyBA0LphP+AfIEDQumE/4B8gQNC6YT/gHyBA0LphP+AfIEDQumE/4B8gQNC6YT/gHyBA0LphP+AfIEDQumE/4B8gQNC6YT/gHyBA0LphP+AfIEDQumE/4B8gQNC6YT/gHyBA0LphP+AfIEDQumE/4B8gQNC6YT/gHyBA0LphP+AfIEDQumE/4B8gQNC6YT/gHyBA0LphP+AfIEDQumE/4B8gQNC6YT/gHyBA0LphP+AfIEDQumE/4B8gQNC6YT/gHyBA0LphP+AfIEDQumE/4B8gQNC6YT/gHyBA0LphP+AfIEDQumE/4B8gQNC6YT/gHyBA0LphP+AfIEDQumE/4B8gQNC6YT/gHyBA0LphP+AfIEDQumE/4B8gQNC6YT/gHyBA0LphP+AfIEDQumE/4B8gQNC6YT/gHyBA0LphP+AfIEDQumE/4B8gQHC4LWvBxiFAcLgta8HGIUBwuC1rwcYhQHC4LWvBxiFAcLgta8HGIUBwuC1rwcYhQHC4LWvBxiFAcLgta8HGIUBwuC1rwcYhQHC4LWvBxiFAcLgta8HGIUBwuC1rwcYhQHC4LWvBxiFAcLgta8HGIUBwuC1rwcYhQHC4LWvBxiFAcLgta8HGIUBwuC1rwcYhQHC4LWvBxiFAcLgta8HGIUBwuC1rwcYhQHC4LWvBxiFAcLgta8HGIUBwuC1rwcYhQHC4LWvBxiFAcLgta8HGIUBwuC1rwcYhQHC4LWvBxiFAcLgta8HGIUBwuC1rwcYhQHC4LWvBxiFAcLgta8HGIUBwuC1rwcYhQHC4LWvBxiFAcLgta8HGIUBwuC1rwcYhQHC4LWvBxiFAcLgta8HGIUBwuC1rwcYhQHC4LWvBxiFAcLgta8HGIUBwuC1rwcYhQHC4LWvBxiFAcLgta8HGIUBwuC1rwcYhQHC4LWvBxiFAcLgta8HGIUBwuC1rwcYhQHC4LWvBxiFAcLgta8HGIUBJP2gR6u4dQEk/aBHq7h1AST9oEeruHUBJP2gR6u4dQEk/aBHq7h1AST9oEeruHUBJP2gR6u4dQEk/aBHq7h1A\",\"dtype\":\"float64\",\"order\":\"little\",\"shape\":[558]}},\"selected\":{\"id\":\"1280\"},\"selection_policy\":{\"id\":\"1292\"}},\"id\":\"1279\",\"type\":\"ColumnDataSource\"},{\"attributes\":{},\"id\":\"1220\",\"type\":\"LinearScale\"},{\"attributes\":{\"dimension\":\"lat\"},\"id\":\"1249\",\"type\":\"MercatorTicker\"},{\"attributes\":{\"below\":[{\"id\":\"1224\"}],\"center\":[{\"id\":\"1227\"},{\"id\":\"1231\"}],\"frame_height\":300,\"frame_width\":854,\"height\":null,\"left\":[{\"id\":\"1228\"}],\"margin\":[5,5,5,5],\"match_aspect\":true,\"min_border_bottom\":10,\"min_border_left\":10,\"min_border_right\":10,\"min_border_top\":10,\"renderers\":[{\"id\":\"1276\"},{\"id\":\"1287\"}],\"right\":[{\"id\":\"1295\"}],\"sizing_mode\":\"fixed\",\"title\":{\"id\":\"1216\"},\"toolbar\":{\"id\":\"1238\"},\"width\":null,\"x_range\":{\"id\":\"1208\"},\"x_scale\":{\"id\":\"1220\"},\"y_range\":{\"id\":\"1209\"},\"y_scale\":{\"id\":\"1222\"}},\"id\":\"1215\",\"subtype\":\"Figure\",\"type\":\"Plot\"},{\"attributes\":{\"dimension\":\"lat\"},\"id\":\"1250\",\"type\":\"MercatorTickFormatter\"},{\"attributes\":{\"end\":7058899.698934676,\"min_interval\":5,\"reset_end\":7058899.698934676,\"reset_start\":-6357138.639062488,\"start\":-6357138.639062488,\"tags\":[[[\"Lat\",\"Lat\",null]]]},\"id\":\"1209\",\"type\":\"Range1d\"},{\"attributes\":{\"dimension\":\"lon\"},\"id\":\"1248\",\"type\":\"MercatorTickFormatter\"},{\"attributes\":{\"fill_alpha\":{\"value\":0.1},\"fill_color\":{\"field\":\"color\",\"transform\":{\"id\":\"1278\"}},\"hatch_alpha\":{\"value\":0.1},\"hatch_color\":{\"field\":\"color\",\"transform\":{\"id\":\"1278\"}},\"line_alpha\":{\"value\":0.1},\"line_color\":{\"field\":\"color\",\"transform\":{\"id\":\"1278\"}},\"size\":{\"field\":\"size\"},\"x\":{\"field\":\"Lng\"},\"y\":{\"field\":\"Lat\"}},\"id\":\"1283\",\"type\":\"Scatter\"},{\"attributes\":{\"fill_alpha\":{\"value\":0.2},\"fill_color\":{\"field\":\"color\",\"transform\":{\"id\":\"1278\"}},\"hatch_alpha\":{\"value\":0.2},\"hatch_color\":{\"field\":\"color\",\"transform\":{\"id\":\"1278\"}},\"line_alpha\":{\"value\":0.2},\"line_color\":{\"field\":\"color\",\"transform\":{\"id\":\"1278\"}},\"size\":{\"field\":\"size\"},\"x\":{\"field\":\"Lng\"},\"y\":{\"field\":\"Lat\"}},\"id\":\"1286\",\"type\":\"Scatter\"},{\"attributes\":{\"axis\":{\"id\":\"1224\"},\"coordinates\":null,\"grid_line_color\":null,\"group\":null,\"ticker\":null},\"id\":\"1227\",\"type\":\"Grid\"},{\"attributes\":{\"source\":{\"id\":\"1279\"}},\"id\":\"1288\",\"type\":\"CDSView\"},{\"attributes\":{},\"id\":\"1260\",\"type\":\"AllLabels\"},{\"attributes\":{\"axis_label\":\"x\",\"coordinates\":null,\"formatter\":{\"id\":\"1248\"},\"group\":null,\"major_label_policy\":{\"id\":\"1253\"},\"ticker\":{\"id\":\"1247\"}},\"id\":\"1224\",\"type\":\"LinearAxis\"},{\"attributes\":{},\"id\":\"1222\",\"type\":\"LinearScale\"},{\"attributes\":{\"active_drag\":{\"id\":\"1233\"},\"active_scroll\":{\"id\":\"1234\"},\"tools\":[{\"id\":\"1212\"},{\"id\":\"1232\"},{\"id\":\"1233\"},{\"id\":\"1234\"},{\"id\":\"1235\"},{\"id\":\"1236\"}]},\"id\":\"1238\",\"type\":\"Toolbar\"},{\"attributes\":{\"children\":[{\"id\":\"1215\"}],\"margin\":[0,0,0,0],\"name\":\"Row01788\",\"sizing_mode\":\"fixed\",\"tags\":[\"embedded\"]},\"id\":\"1203\",\"type\":\"Row\"},{\"attributes\":{\"attribution\":\"&copy; <a href=\\\"https://www.openstreetmap.org/copyright\\\">OpenStreetMap</a> contributors\",\"url\":\"https://c.tile.openstreetmap.org/{Z}/{X}/{Y}.png\"},\"id\":\"1273\",\"type\":\"WMTSTileSource\"},{\"attributes\":{},\"id\":\"1292\",\"type\":\"UnionRenderers\"},{\"attributes\":{\"coordinates\":null,\"group\":null,\"level\":\"glyph\",\"tile_source\":{\"id\":\"1273\"}},\"id\":\"1276\",\"type\":\"TileRenderer\"},{\"attributes\":{\"callback\":null,\"formatters\":{\"$x\":{\"id\":\"1297\"},\"$y\":{\"id\":\"1298\"}},\"renderers\":[{\"id\":\"1287\"}],\"tags\":[\"hv_created\"],\"tooltips\":[[\"Lng\",\"$x{custom}\"],[\"Lat\",\"$y{custom}\"],[\"Country\",\"@{Country}\"],[\"Humidity\",\"@{Humidity}\"]]},\"id\":\"1212\",\"type\":\"HoverTool\"},{\"attributes\":{\"dimension\":\"lon\"},\"id\":\"1247\",\"type\":\"MercatorTicker\"}],\"root_ids\":[\"1203\"]},\"title\":\"Bokeh Application\",\"version\":\"2.4.3\"}};\n",
       "    var render_items = [{\"docid\":\"470f2afc-c51c-4335-9e33-ee2940fa9e5f\",\"root_ids\":[\"1203\"],\"roots\":{\"1203\":\"0adcf4fc-dc11-4cbe-b193-e2d479df9dc5\"}}];\n",
       "    root.Bokeh.embed.embed_items_notebook(docs_json, render_items);\n",
       "    for (const render_item of render_items) {\n",
       "      for (const root_id of render_item.root_ids) {\n",
       "\tconst id_el = document.getElementById(root_id)\n",
       "\tif (id_el.children.length && (id_el.children[0].className === 'bk-root')) {\n",
       "\t  const root_el = id_el.children[0]\n",
       "\t  root_el.id = root_el.id + '-rendered'\n",
       "\t}\n",
       "      }\n",
       "    }\n",
       "  }\n",
       "  if (root.Bokeh !== undefined && root.Bokeh.Panel !== undefined) {\n",
       "    embed_document(root);\n",
       "  } else {\n",
       "    var attempts = 0;\n",
       "    var timer = setInterval(function(root) {\n",
       "      if (root.Bokeh !== undefined && root.Bokeh.Panel !== undefined) {\n",
       "        clearInterval(timer);\n",
       "        embed_document(root);\n",
       "      } else if (document.readyState == \"complete\") {\n",
       "        attempts++;\n",
       "        if (attempts > 200) {\n",
       "          clearInterval(timer);\n",
       "          console.log(\"Bokeh: ERROR: Unable to run BokehJS code because BokehJS library is missing\");\n",
       "        }\n",
       "      }\n",
       "    }, 25, root)\n",
       "  }\n",
       "})(window);</script>"
      ],
      "text/plain": [
       ":Overlay\n",
       "   .Tiles.I  :Tiles   [x,y]\n",
       "   .Points.I :Points   [Lng,Lat]   (Country,Humidity)"
      ]
     },
     "execution_count": 10,
     "metadata": {
      "application/vnd.holoviews_exec.v0+json": {
       "id": "1203"
      }
     },
     "output_type": "execute_result"
    }
   ],
   "source": [
    "%%capture --no-display\n",
    "\n",
    "# Configure the map plot\n",
    "map_plot=city_data_df.hvplot.points(\"Lng\",\"Lat\",geo = True, tiles=\"OSM\",color=\"Country\",size=\"Humidity\" )\n",
    "\n",
    "# Display the map\n",
    "map_plot"
   ]
  },
  {
   "cell_type": "markdown",
   "metadata": {},
   "source": [
    "### Step 2: Narrow down the `city_data_df` DataFrame to find your ideal weather condition"
   ]
  },
  {
   "cell_type": "code",
   "execution_count": 11,
   "metadata": {},
   "outputs": [
    {
     "data": {
      "text/html": [
       "<div>\n",
       "<style scoped>\n",
       "    .dataframe tbody tr th:only-of-type {\n",
       "        vertical-align: middle;\n",
       "    }\n",
       "\n",
       "    .dataframe tbody tr th {\n",
       "        vertical-align: top;\n",
       "    }\n",
       "\n",
       "    .dataframe thead th {\n",
       "        text-align: right;\n",
       "    }\n",
       "</style>\n",
       "<table border=\"1\" class=\"dataframe\">\n",
       "  <thead>\n",
       "    <tr style=\"text-align: right;\">\n",
       "      <th></th>\n",
       "      <th>City_ID</th>\n",
       "      <th>City</th>\n",
       "      <th>Lat</th>\n",
       "      <th>Lng</th>\n",
       "      <th>Max Temp</th>\n",
       "      <th>Humidity</th>\n",
       "      <th>Cloudiness</th>\n",
       "      <th>Wind Speed</th>\n",
       "      <th>Country</th>\n",
       "      <th>Date</th>\n",
       "    </tr>\n",
       "  </thead>\n",
       "  <tbody>\n",
       "  </tbody>\n",
       "</table>\n",
       "</div>"
      ],
      "text/plain": [
       "Empty DataFrame\n",
       "Columns: [City_ID, City, Lat, Lng, Max Temp, Humidity, Cloudiness, Wind Speed, Country, Date]\n",
       "Index: []"
      ]
     },
     "execution_count": 11,
     "metadata": {},
     "output_type": "execute_result"
    }
   ],
   "source": [
    "# Narrow down cities that fit criteria and drop any results with null values\n",
    "vacation_df=city_data_df[(city_data_df[\"Max Temp\"]>=10)&(city_data_df[\"Max Temp\"]<35)&(city_data_df[\"Humidity\"]<85)]\n",
    "# Drop any rows with null values\n",
    "vacation_df=vacation_df.dropna()\n",
    "\n",
    "# Display sample data\n",
    "vacation_df.head()"
   ]
  },
  {
   "cell_type": "markdown",
   "metadata": {},
   "source": [
    "### Step 3: Create a new DataFrame called `hotel_df`."
   ]
  },
  {
   "cell_type": "code",
   "execution_count": 12,
   "metadata": {},
   "outputs": [
    {
     "data": {
      "text/html": [
       "<div>\n",
       "<style scoped>\n",
       "    .dataframe tbody tr th:only-of-type {\n",
       "        vertical-align: middle;\n",
       "    }\n",
       "\n",
       "    .dataframe tbody tr th {\n",
       "        vertical-align: top;\n",
       "    }\n",
       "\n",
       "    .dataframe thead th {\n",
       "        text-align: right;\n",
       "    }\n",
       "</style>\n",
       "<table border=\"1\" class=\"dataframe\">\n",
       "  <thead>\n",
       "    <tr style=\"text-align: right;\">\n",
       "      <th></th>\n",
       "      <th>City</th>\n",
       "      <th>Country</th>\n",
       "      <th>Lat</th>\n",
       "      <th>Lng</th>\n",
       "      <th>Humidity</th>\n",
       "      <th>Hotel Name</th>\n",
       "    </tr>\n",
       "  </thead>\n",
       "  <tbody>\n",
       "  </tbody>\n",
       "</table>\n",
       "</div>"
      ],
      "text/plain": [
       "Empty DataFrame\n",
       "Columns: [City, Country, Lat, Lng, Humidity, Hotel Name]\n",
       "Index: []"
      ]
     },
     "execution_count": 12,
     "metadata": {},
     "output_type": "execute_result"
    }
   ],
   "source": [
    "# Use the Pandas copy function to create DataFrame called hotel_df to store the city, country, coordinates, and humidity\n",
    "hotel_df=vacation_df[[\"City\", \"Country\", \"Lat\", \"Lng\", \"Humidity\"]]\n",
    "\n",
    "# Add an empty column, \"Hotel Name,\" to the DataFrame so you can store the hotel found using the Geoapify API\n",
    "hotel_df[\"Hotel Name\"] = \"\"\n",
    "\n",
    "# Display sample data\n",
    "hotel_df"
   ]
  },
  {
   "cell_type": "markdown",
   "metadata": {},
   "source": [
    "### Step 4: For each city, use the Geoapify API to find the first hotel located within 10,000 metres of your coordinates."
   ]
  },
  {
   "cell_type": "code",
   "execution_count": 15,
   "metadata": {},
   "outputs": [
    {
     "name": "stdout",
     "output_type": "stream",
     "text": [
      "Starting hotel search\n"
     ]
    },
    {
     "data": {
      "text/html": [
       "<div>\n",
       "<style scoped>\n",
       "    .dataframe tbody tr th:only-of-type {\n",
       "        vertical-align: middle;\n",
       "    }\n",
       "\n",
       "    .dataframe tbody tr th {\n",
       "        vertical-align: top;\n",
       "    }\n",
       "\n",
       "    .dataframe thead th {\n",
       "        text-align: right;\n",
       "    }\n",
       "</style>\n",
       "<table border=\"1\" class=\"dataframe\">\n",
       "  <thead>\n",
       "    <tr style=\"text-align: right;\">\n",
       "      <th></th>\n",
       "      <th>City</th>\n",
       "      <th>Country</th>\n",
       "      <th>Lat</th>\n",
       "      <th>Lng</th>\n",
       "      <th>Humidity</th>\n",
       "      <th>Hotel Name</th>\n",
       "    </tr>\n",
       "  </thead>\n",
       "  <tbody>\n",
       "  </tbody>\n",
       "</table>\n",
       "</div>"
      ],
      "text/plain": [
       "Empty DataFrame\n",
       "Columns: [City, Country, Lat, Lng, Humidity, Hotel Name]\n",
       "Index: []"
      ]
     },
     "execution_count": 15,
     "metadata": {},
     "output_type": "execute_result"
    }
   ],
   "source": [
    "# Set parameters to search for a hotel\n",
    "radius = 10000\n",
    "params = {\"categories\": \"accommodation.hotel\",\"apiKey\":geoapify_key, \"limit\":20}\n",
    "\n",
    "# Print a message to follow up the hotel search\n",
    "print(\"Starting hotel search\")\n",
    "\n",
    "# Iterate through the hotel_df DataFrame\n",
    "for index, row in hotel_df.iterrows():\n",
    "    # get latitude, longitude from the DataFrame\n",
    "    lat=row[\"Lat\"]\n",
    "    long=row[\"Lng\"]\n",
    "    \n",
    "    # Add filter and bias parameters with the current city's latitude and longitude to the params dictionary\n",
    "    params[\"filter\"] = f\"circle:{long},{lat},{radius}\"\n",
    "    params[\"bias\"] = f\"proximity:{long},{lat}\"\n",
    "    \n",
    "    # Set base URL\n",
    "    base_url = \"https://api.geoapify.com/v2/places\"\n",
    "\n",
    "\n",
    "    # Make and API request using the params dictionaty\n",
    "    name_address = requests.get(base_url,params=params).json()\n",
    "    \n",
    "    # Grab the first hotel from the results and store the name in the hotel_df DataFrame\n",
    "    try:\n",
    "        hotel_df.loc[index, \"Hotel Name\"] = name_address[\"features\"][0][\"properties\"][\"name\"]\n",
    "    except (KeyError, IndexError):\n",
    "        # If no hotel is found, set the hotel name as \"No hotel found\".\n",
    "        hotel_df.loc[index, \"Hotel Name\"] = \"No hotel found\"\n",
    "        \n",
    "    # Log the search results\n",
    "    print(f\"{hotel_df.loc[index, 'City']} - nearest hotel: {hotel_df.loc[index, 'Hotel Name']}\")\n",
    "\n",
    "# Display sample data\n",
    "hotel_df"
   ]
  },
  {
   "cell_type": "markdown",
   "metadata": {},
   "source": [
    "### Step 5: Add the hotel name and the country as additional information in the hover message for each city in the map."
   ]
  },
  {
   "cell_type": "code",
   "execution_count": 21,
   "metadata": {},
   "outputs": [
    {
     "name": "stderr",
     "output_type": "stream",
     "text": [
      "WARNING:param.GeoPointPlot02712: Specified size dim transform (np.sqrt(dim('Hotel Name'))*1) could not be applied, as not all dimensions could be resolved.\n"
     ]
    },
    {
     "data": {},
     "metadata": {},
     "output_type": "display_data"
    },
    {
     "data": {
      "application/vnd.holoviews_exec.v0+json": "",
      "text/html": [
       "<div id='2087'>\n",
       "  <div class=\"bk-root\" id=\"56fd276b-9f72-4025-a58e-ee8901e2cf3d\" data-root-id=\"2087\"></div>\n",
       "</div>\n",
       "<script type=\"application/javascript\">(function(root) {\n",
       "  function embed_document(root) {\n",
       "    var docs_json = {\"a21a3c50-8e12-4fde-ab31-14a83ac4db63\":{\"defs\":[{\"extends\":null,\"module\":null,\"name\":\"ReactiveHTML1\",\"overrides\":[],\"properties\":[]},{\"extends\":null,\"module\":null,\"name\":\"FlexBox1\",\"overrides\":[],\"properties\":[{\"default\":\"flex-start\",\"kind\":null,\"name\":\"align_content\"},{\"default\":\"flex-start\",\"kind\":null,\"name\":\"align_items\"},{\"default\":\"row\",\"kind\":null,\"name\":\"flex_direction\"},{\"default\":\"wrap\",\"kind\":null,\"name\":\"flex_wrap\"},{\"default\":\"flex-start\",\"kind\":null,\"name\":\"justify_content\"}]},{\"extends\":null,\"module\":null,\"name\":\"GridStack1\",\"overrides\":[],\"properties\":[{\"default\":\"warn\",\"kind\":null,\"name\":\"mode\"},{\"default\":null,\"kind\":null,\"name\":\"ncols\"},{\"default\":null,\"kind\":null,\"name\":\"nrows\"},{\"default\":true,\"kind\":null,\"name\":\"allow_resize\"},{\"default\":true,\"kind\":null,\"name\":\"allow_drag\"},{\"default\":[],\"kind\":null,\"name\":\"state\"}]},{\"extends\":null,\"module\":null,\"name\":\"click1\",\"overrides\":[],\"properties\":[{\"default\":\"\",\"kind\":null,\"name\":\"terminal_output\"},{\"default\":\"\",\"kind\":null,\"name\":\"debug_name\"},{\"default\":0,\"kind\":null,\"name\":\"clears\"}]},{\"extends\":null,\"module\":null,\"name\":\"NotificationAreaBase1\",\"overrides\":[],\"properties\":[{\"default\":\"bottom-right\",\"kind\":null,\"name\":\"position\"},{\"default\":0,\"kind\":null,\"name\":\"_clear\"}]},{\"extends\":null,\"module\":null,\"name\":\"NotificationArea1\",\"overrides\":[],\"properties\":[{\"default\":[],\"kind\":null,\"name\":\"notifications\"},{\"default\":\"bottom-right\",\"kind\":null,\"name\":\"position\"},{\"default\":0,\"kind\":null,\"name\":\"_clear\"},{\"default\":[{\"background\":\"#ffc107\",\"icon\":{\"className\":\"fas fa-exclamation-triangle\",\"color\":\"white\",\"tagName\":\"i\"},\"type\":\"warning\"},{\"background\":\"#007bff\",\"icon\":{\"className\":\"fas fa-info-circle\",\"color\":\"white\",\"tagName\":\"i\"},\"type\":\"info\"}],\"kind\":null,\"name\":\"types\"}]},{\"extends\":null,\"module\":null,\"name\":\"Notification\",\"overrides\":[],\"properties\":[{\"default\":null,\"kind\":null,\"name\":\"background\"},{\"default\":3000,\"kind\":null,\"name\":\"duration\"},{\"default\":null,\"kind\":null,\"name\":\"icon\"},{\"default\":\"\",\"kind\":null,\"name\":\"message\"},{\"default\":null,\"kind\":null,\"name\":\"notification_type\"},{\"default\":false,\"kind\":null,\"name\":\"_destroyed\"}]},{\"extends\":null,\"module\":null,\"name\":\"TemplateActions1\",\"overrides\":[],\"properties\":[{\"default\":0,\"kind\":null,\"name\":\"open_modal\"},{\"default\":0,\"kind\":null,\"name\":\"close_modal\"}]},{\"extends\":null,\"module\":null,\"name\":\"MaterialTemplateActions1\",\"overrides\":[],\"properties\":[{\"default\":0,\"kind\":null,\"name\":\"open_modal\"},{\"default\":0,\"kind\":null,\"name\":\"close_modal\"}]}],\"roots\":{\"references\":[{\"attributes\":{\"end\":22049557.911523495,\"min_interval\":5,\"reset_end\":22049557.911523495,\"reset_start\":-16160300.438647052,\"start\":-16160300.438647052,\"tags\":[[[\"Lng\",\"Lng\",null]]]},\"id\":\"2092\",\"type\":\"Range1d\"},{\"attributes\":{\"attribution\":\"&copy; <a href=\\\"https://www.openstreetmap.org/copyright\\\">OpenStreetMap</a> contributors\",\"url\":\"https://c.tile.openstreetmap.org/{Z}/{X}/{Y}.png\"},\"id\":\"2157\",\"type\":\"WMTSTileSource\"},{\"attributes\":{\"end\":7058899.698934676,\"min_interval\":5,\"reset_end\":7058899.698934676,\"reset_start\":-6357138.639062488,\"start\":-6357138.639062488,\"tags\":[[[\"Lat\",\"Lat\",null]]]},\"id\":\"2093\",\"type\":\"Range1d\"},{\"attributes\":{\"code\":\"\\n        var projections = Bokeh.require(\\\"core/util/projections\\\");\\n        var x = special_vars.data_x\\n        var y = special_vars.data_y\\n        var coords = projections.wgs84_mercator.invert(x, y)\\n        return \\\"\\\" + (coords[1]).toFixed(4)\\n    \"},\"id\":\"2182\",\"type\":\"CustomJSHover\"},{\"attributes\":{\"active_drag\":{\"id\":\"2117\"},\"active_scroll\":{\"id\":\"2118\"},\"tools\":[{\"id\":\"2096\"},{\"id\":\"2116\"},{\"id\":\"2117\"},{\"id\":\"2118\"},{\"id\":\"2119\"},{\"id\":\"2120\"}]},\"id\":\"2122\",\"type\":\"Toolbar\"},{\"attributes\":{\"click_policy\":\"mute\",\"coordinates\":null,\"group\":null,\"items\":[{\"id\":\"2180\"}],\"location\":[0,0]},\"id\":\"2179\",\"type\":\"Legend\"},{\"attributes\":{},\"id\":\"2104\",\"type\":\"LinearScale\"},{\"attributes\":{\"below\":[{\"id\":\"2108\"}],\"center\":[{\"id\":\"2111\"},{\"id\":\"2115\"}],\"frame_height\":300,\"frame_width\":854,\"height\":null,\"left\":[{\"id\":\"2112\"}],\"margin\":[5,5,5,5],\"match_aspect\":true,\"min_border_bottom\":10,\"min_border_left\":10,\"min_border_right\":10,\"min_border_top\":10,\"renderers\":[{\"id\":\"2160\"},{\"id\":\"2171\"}],\"right\":[{\"id\":\"2179\"}],\"sizing_mode\":\"fixed\",\"title\":{\"id\":\"2100\"},\"toolbar\":{\"id\":\"2122\"},\"width\":null,\"x_range\":{\"id\":\"2092\"},\"x_scale\":{\"id\":\"2104\"},\"y_range\":{\"id\":\"2093\"},\"y_scale\":{\"id\":\"2106\"}},\"id\":\"2099\",\"subtype\":\"Figure\",\"type\":\"Plot\"},{\"attributes\":{\"dimension\":\"lat\"},\"id\":\"2134\",\"type\":\"MercatorTickFormatter\"},{\"attributes\":{},\"id\":\"2144\",\"type\":\"AllLabels\"},{\"attributes\":{},\"id\":\"2137\",\"type\":\"AllLabels\"},{\"attributes\":{},\"id\":\"2106\",\"type\":\"LinearScale\"},{\"attributes\":{\"axis\":{\"id\":\"2108\"},\"coordinates\":null,\"grid_line_color\":null,\"group\":null,\"ticker\":null},\"id\":\"2111\",\"type\":\"Grid\"},{\"attributes\":{\"dimension\":\"lat\"},\"id\":\"2133\",\"type\":\"MercatorTicker\"},{\"attributes\":{\"dimension\":\"lon\"},\"id\":\"2131\",\"type\":\"MercatorTicker\"},{\"attributes\":{\"coordinates\":null,\"data_source\":{\"id\":\"2163\"},\"glyph\":{\"id\":\"2166\"},\"group\":null,\"hover_glyph\":{\"id\":\"2169\"},\"muted_glyph\":{\"id\":\"2170\"},\"nonselection_glyph\":{\"id\":\"2167\"},\"selection_glyph\":{\"id\":\"2168\"},\"view\":{\"id\":\"2172\"}},\"id\":\"2171\",\"type\":\"GlyphRenderer\"},{\"attributes\":{\"coordinates\":null,\"group\":null,\"level\":\"glyph\",\"tile_source\":{\"id\":\"2157\"}},\"id\":\"2160\",\"type\":\"TileRenderer\"},{\"attributes\":{\"callback\":null,\"formatters\":{\"$x\":{\"id\":\"2181\"},\"$y\":{\"id\":\"2182\"}},\"renderers\":[{\"id\":\"2171\"}],\"tags\":[\"hv_created\"],\"tooltips\":[[\"Lng\",\"$x{custom}\"],[\"Lat\",\"$y{custom}\"],[\"Country\",\"@{Country}\"]]},\"id\":\"2096\",\"type\":\"HoverTool\"},{\"attributes\":{},\"id\":\"2176\",\"type\":\"UnionRenderers\"},{\"attributes\":{\"dimension\":\"lon\"},\"id\":\"2132\",\"type\":\"MercatorTickFormatter\"},{\"attributes\":{\"axis_label\":\"x\",\"coordinates\":null,\"formatter\":{\"id\":\"2132\"},\"group\":null,\"major_label_policy\":{\"id\":\"2137\"},\"ticker\":{\"id\":\"2131\"}},\"id\":\"2108\",\"type\":\"LinearAxis\"},{\"attributes\":{\"fill_alpha\":{\"value\":0.1},\"fill_color\":{\"field\":\"color\",\"transform\":{\"id\":\"2162\"}},\"hatch_alpha\":{\"value\":0.1},\"hatch_color\":{\"field\":\"color\",\"transform\":{\"id\":\"2162\"}},\"line_alpha\":{\"value\":0.1},\"line_color\":{\"field\":\"color\",\"transform\":{\"id\":\"2162\"}},\"x\":{\"field\":\"Lng\"},\"y\":{\"field\":\"Lat\"}},\"id\":\"2167\",\"type\":\"Scatter\"},{\"attributes\":{\"children\":[{\"id\":\"2099\"}],\"margin\":[0,0,0,0],\"name\":\"Row02687\",\"sizing_mode\":\"fixed\",\"tags\":[\"embedded\"]},\"id\":\"2087\",\"type\":\"Row\"},{\"attributes\":{\"fill_alpha\":{\"value\":0.2},\"fill_color\":{\"field\":\"color\",\"transform\":{\"id\":\"2162\"}},\"hatch_alpha\":{\"value\":0.2},\"hatch_color\":{\"field\":\"color\",\"transform\":{\"id\":\"2162\"}},\"line_alpha\":{\"value\":0.2},\"line_color\":{\"field\":\"color\",\"transform\":{\"id\":\"2162\"}},\"x\":{\"field\":\"Lng\"},\"y\":{\"field\":\"Lat\"}},\"id\":\"2170\",\"type\":\"Scatter\"},{\"attributes\":{\"fill_color\":{\"field\":\"color\",\"transform\":{\"id\":\"2162\"}},\"hatch_color\":{\"field\":\"color\",\"transform\":{\"id\":\"2162\"}},\"line_color\":{\"field\":\"color\",\"transform\":{\"id\":\"2162\"}},\"x\":{\"field\":\"Lng\"},\"y\":{\"field\":\"Lat\"}},\"id\":\"2166\",\"type\":\"Scatter\"},{\"attributes\":{\"coordinates\":null,\"group\":null,\"text_color\":\"black\",\"text_font_size\":\"12pt\"},\"id\":\"2100\",\"type\":\"Title\"},{\"attributes\":{\"fill_color\":{\"field\":\"color\",\"transform\":{\"id\":\"2162\"}},\"hatch_color\":{\"field\":\"color\",\"transform\":{\"id\":\"2162\"}},\"line_color\":{\"field\":\"color\",\"transform\":{\"id\":\"2162\"}},\"x\":{\"field\":\"Lng\"},\"y\":{\"field\":\"Lat\"}},\"id\":\"2168\",\"type\":\"Scatter\"},{\"attributes\":{},\"id\":\"2117\",\"type\":\"PanTool\"},{\"attributes\":{\"axis_label\":\"y\",\"coordinates\":null,\"formatter\":{\"id\":\"2134\"},\"group\":null,\"major_label_policy\":{\"id\":\"2144\"},\"ticker\":{\"id\":\"2133\"}},\"id\":\"2112\",\"type\":\"LinearAxis\"},{\"attributes\":{\"axis\":{\"id\":\"2112\"},\"coordinates\":null,\"dimension\":1,\"grid_line_color\":null,\"group\":null,\"ticker\":null},\"id\":\"2115\",\"type\":\"Grid\"},{\"attributes\":{},\"id\":\"2164\",\"type\":\"Selection\"},{\"attributes\":{\"zoom_on_axis\":false},\"id\":\"2118\",\"type\":\"WheelZoomTool\"},{\"attributes\":{\"label\":{\"field\":\"color\"},\"renderers\":[{\"id\":\"2171\"}]},\"id\":\"2180\",\"type\":\"LegendItem\"},{\"attributes\":{\"source\":{\"id\":\"2163\"}},\"id\":\"2172\",\"type\":\"CDSView\"},{\"attributes\":{\"code\":\"\\n        var projections = Bokeh.require(\\\"core/util/projections\\\");\\n        var x = special_vars.data_x\\n        var y = special_vars.data_y\\n        var coords = projections.wgs84_mercator.invert(x, y)\\n        return \\\"\\\" + (coords[0]).toFixed(4)\\n    \"},\"id\":\"2181\",\"type\":\"CustomJSHover\"},{\"attributes\":{},\"id\":\"2116\",\"type\":\"SaveTool\"},{\"attributes\":{\"data\":{\"Country\":[\"NZ\",\"NZ\",\"NZ\",\"NZ\",\"NZ\",\"NZ\",\"NZ\",\"NZ\",\"NZ\",\"NZ\",\"NZ\",\"NZ\",\"NZ\",\"NZ\",\"NZ\",\"NZ\",\"NZ\",\"NZ\",\"NZ\",\"NZ\",\"NZ\",\"NZ\",\"NZ\",\"NZ\",\"NZ\",\"NZ\",\"NZ\",\"NZ\",\"NZ\",\"NZ\",\"NZ\",\"NZ\",\"NZ\",\"NZ\",\"NZ\",\"NZ\",\"NZ\",\"NZ\",\"NZ\",\"NZ\",\"NZ\",\"NZ\",\"NZ\",\"NZ\",\"NZ\",\"NZ\",\"NZ\",\"NZ\",\"NZ\",\"NZ\",\"IR\",\"IR\",\"IR\",\"IR\",\"IR\",\"IR\",\"IR\",\"IR\",\"IR\",\"IR\",\"IR\",\"IR\",\"IR\",\"IR\",\"IR\",\"IR\",\"IR\",\"IR\",\"IR\",\"IR\",\"IR\",\"IR\",\"IR\",\"IR\",\"IR\",\"IR\",\"IR\",\"IR\",\"IR\",\"IR\",\"IR\",\"IR\",\"IR\",\"IR\",\"IR\",\"IR\",\"IR\",\"IR\",\"IR\",\"IR\",\"IR\",\"IR\",\"IR\",\"IR\",\"IR\",\"IR\",\"IR\",\"IR\",\"IR\",\"IR\",\"MX\",\"MX\",\"MX\",\"MX\",\"MX\",\"MX\",\"MX\",\"MX\",\"MX\",\"MX\",\"MX\",\"MX\",\"MX\",\"MX\",\"MX\",\"MX\",\"MX\",\"MX\",\"MX\",\"MX\",\"MX\",\"MX\",\"MX\",\"MX\",\"MX\",\"MX\",\"MX\",\"MX\",\"MX\",\"MX\",\"MX\",\"MX\",\"MX\",\"MX\",\"MX\",\"MX\",\"MX\",\"MX\",\"MX\",\"MX\",\"MX\",\"MX\",\"MX\",\"MX\",\"MX\",\"MX\",\"MX\",\"MX\",\"MX\",\"MX\",\"GB\",\"GB\",\"GB\",\"GB\",\"GB\",\"GB\",\"GB\",\"GB\",\"GB\",\"GB\",\"GB\",\"GB\",\"GB\",\"GB\",\"GB\",\"GB\",\"GB\",\"GB\",\"GB\",\"GB\",\"GB\",\"GB\",\"GB\",\"GB\",\"GB\",\"GB\",\"GB\",\"GB\",\"GB\",\"GB\",\"GB\",\"GB\",\"GB\",\"GB\",\"GB\",\"GB\",\"GB\",\"GB\",\"GB\",\"GB\",\"GB\",\"GB\",\"GB\",\"GB\",\"GB\",\"GB\",\"GB\",\"GB\",\"GB\",\"GB\",\"DZ\",\"DZ\",\"DZ\",\"DZ\",\"DZ\",\"DZ\",\"DZ\",\"DZ\",\"DZ\",\"DZ\",\"DZ\",\"DZ\",\"DZ\",\"DZ\",\"DZ\",\"DZ\",\"DZ\",\"DZ\",\"DZ\",\"DZ\",\"DZ\",\"DZ\",\"DZ\",\"DZ\",\"DZ\",\"DZ\",\"DZ\",\"DZ\",\"DZ\",\"DZ\",\"DZ\",\"DZ\",\"DZ\",\"DZ\",\"DZ\",\"DZ\",\"DZ\",\"DZ\",\"DZ\",\"DZ\",\"DZ\",\"DZ\",\"DZ\",\"DZ\",\"DZ\",\"DZ\",\"DZ\",\"DZ\",\"DZ\",\"DZ\",\"KZ\",\"KZ\",\"KZ\",\"KZ\",\"KZ\",\"KZ\",\"KZ\",\"KZ\",\"KZ\",\"KZ\",\"KZ\",\"KZ\",\"KZ\",\"KZ\",\"KZ\",\"KZ\",\"KZ\",\"KZ\",\"KZ\",\"KZ\",\"KZ\",\"KZ\",\"KZ\",\"KZ\",\"KZ\",\"KZ\",\"KZ\",\"KZ\",\"KZ\",\"KZ\",\"KZ\",\"KZ\",\"KZ\",\"KZ\",\"KZ\",\"KZ\",\"KZ\",\"KZ\",\"KZ\",\"KZ\",\"KZ\",\"KZ\",\"KZ\",\"KZ\",\"KZ\",\"KZ\",\"KZ\",\"KZ\",\"KZ\",\"KZ\",\"AR\",\"AR\",\"AR\",\"AR\",\"AR\",\"AR\",\"AR\",\"AR\",\"AR\",\"AR\",\"AR\",\"AR\",\"AR\",\"AR\",\"AR\",\"AR\",\"AR\",\"AR\",\"AR\",\"AR\",\"AR\",\"AR\",\"AR\",\"AR\",\"AR\",\"AR\",\"AR\",\"AR\",\"AR\",\"AR\",\"AR\",\"AR\",\"AR\",\"AR\",\"AR\",\"AR\",\"AR\",\"AR\",\"AR\",\"AR\",\"AR\",\"AR\",\"AR\",\"AR\",\"AR\",\"AR\",\"AR\",\"AR\",\"AR\",\"AR\",\"ID\",\"ID\",\"ID\",\"ID\",\"ID\",\"ID\",\"ID\",\"ID\",\"ID\",\"ID\",\"ID\",\"ID\",\"ID\",\"ID\",\"ID\",\"ID\",\"ID\",\"ID\",\"ID\",\"ID\",\"ID\",\"ID\",\"ID\",\"ID\",\"ID\",\"ID\",\"ID\",\"ID\",\"ID\",\"ID\",\"ID\",\"ID\",\"ID\",\"ID\",\"ID\",\"ID\",\"ID\",\"ID\",\"ID\",\"ID\",\"ID\",\"ID\",\"ID\",\"ID\",\"ID\",\"ID\",\"ID\",\"ID\",\"ID\",\"ID\",\"CL\",\"CL\",\"CL\",\"CL\",\"CL\",\"CL\",\"CL\",\"CL\",\"CL\",\"CL\",\"CL\",\"CL\",\"CL\",\"CL\",\"CL\",\"CL\",\"CL\",\"CL\",\"CL\",\"CL\",\"CL\",\"CL\",\"CL\",\"CL\",\"CL\",\"CL\",\"CL\",\"CL\",\"CL\",\"CL\",\"CL\",\"CL\",\"CL\",\"CL\",\"CL\",\"CL\",\"CL\",\"CL\",\"CL\",\"CL\",\"CL\",\"CL\",\"CL\",\"CL\",\"CL\",\"CL\",\"CL\",\"CL\",\"CL\",\"CL\",\"MX\",\"MX\",\"MX\",\"MX\",\"MX\",\"MX\",\"MX\",\"MX\",\"MX\",\"MX\",\"MX\",\"MX\",\"MX\",\"MX\",\"MX\",\"MX\",\"MX\",\"MX\",\"MX\",\"MX\",\"MX\",\"MX\",\"MX\",\"MX\",\"MX\",\"MX\",\"MX\",\"MX\",\"MX\",\"MX\",\"MX\",\"MX\",\"MX\",\"MX\",\"MX\",\"MX\",\"MX\",\"MX\",\"MX\",\"MX\",\"MX\",\"MX\",\"MX\",\"MX\",\"MX\",\"MX\",\"MX\",\"MX\",\"MX\",\"MX\",\"PT\",\"PT\",\"PT\",\"PT\",\"PT\",\"PT\",\"PT\",\"PT\",\"PT\",\"PT\",\"PT\",\"PT\",\"PT\",\"PT\",\"PT\",\"PT\",\"PT\",\"PT\",\"PT\",\"PT\",\"PT\",\"PT\",\"PT\",\"PT\",\"PT\",\"PT\",\"PT\",\"PT\",\"PT\",\"PT\",\"PT\",\"PT\",\"PT\",\"PT\",\"PT\",\"PT\",\"PT\",\"PT\",\"PT\",\"PT\",\"PT\",\"PT\",\"PT\",\"PT\",\"PT\",\"PT\",\"PT\",\"PT\",\"PT\",\"PT\",\"CN\",\"CN\",\"CN\",\"CN\",\"CN\",\"CN\",\"CN\",\"CN\"],\"Lat\":{\"__ndarray__\":\"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\",\"dtype\":\"float64\",\"order\":\"little\",\"shape\":[558]},\"Lng\":{\"__ndarray__\":\"6LSQss/9cUHotJCyz/1xQei0kLLP/XFB6LSQss/9cUHotJCyz/1xQei0kLLP/XFB6LSQss/9cUHotJCyz/1xQei0kLLP/XFB6LSQss/9cUHotJCyz/1xQei0kLLP/XFB6LSQss/9cUHotJCyz/1xQei0kLLP/XFB6LSQss/9cUHotJCyz/1xQei0kLLP/XFB6LSQss/9cUHotJCyz/1xQei0kLLP/XFB6LSQss/9cUHotJCyz/1xQei0kLLP/XFB6LSQss/9cUHotJCyz/1xQei0kLLP/XFB6LSQss/9cUHotJCyz/1xQei0kLLP/XFB6LSQss/9cUHotJCyz/1xQei0kLLP/XFB6LSQss/9cUHotJCyz/1xQei0kLLP/XFB6LSQss/9cUHotJCyz/1xQei0kLLP/XFB6LSQss/9cUHotJCyz/1xQei0kLLP/XFB6LSQss/9cUHotJCyz/1xQei0kLLP/XFB6LSQss/9cUHotJCyz/1xQei0kLLP/XFB6LSQss/9cUHotJCyz/1xQTyKMM5GLFhBPIowzkYsWEE8ijDORixYQTyKMM5GLFhBPIowzkYsWEE8ijDORixYQTyKMM5GLFhBPIowzkYsWEE8ijDORixYQTyKMM5GLFhBPIowzkYsWEE8ijDORixYQTyKMM5GLFhBPIowzkYsWEE8ijDORixYQTyKMM5GLFhBPIowzkYsWEE8ijDORixYQTyKMM5GLFhBPIowzkYsWEE8ijDORixYQTyKMM5GLFhBPIowzkYsWEE8ijDORixYQTyKMM5GLFhBPIowzkYsWEE8ijDORixYQTyKMM5GLFhBPIowzkYsWEE8ijDORixYQTyKMM5GLFhBPIowzkYsWEE8ijDORixYQTyKMM5GLFhBPIowzkYsWEE8ijDORixYQTyKMM5GLFhBPIowzkYsWEE8ijDORixYQTyKMM5GLFhBPIowzkYsWEE8ijDORixYQTyKMM5GLFhBPIowzkYsWEE8ijDORixYQTyKMM5GLFhBPIowzkYsWEE8ijDORixYQTyKMM5GLFhBPIowzkYsWEG3QQ1VBZNkwbdBDVUFk2TBt0ENVQWTZMG3QQ1VBZNkwbdBDVUFk2TBt0ENVQWTZMG3QQ1VBZNkwbdBDVUFk2TBt0ENVQWTZMG3QQ1VBZNkwbdBDVUFk2TBt0ENVQWTZMG3QQ1VBZNkwbdBDVUFk2TBt0ENVQWTZMG3QQ1VBZNkwbdBDVUFk2TBt0ENVQWTZMG3QQ1VBZNkwbdBDVUFk2TBt0ENVQWTZMG3QQ1VBZNkwbdBDVUFk2TBt0ENVQWTZMG3QQ1VBZNkwbdBDVUFk2TBt0ENVQWTZMG3QQ1VBZNkwbdBDVUFk2TBt0ENVQWTZMG3QQ1VBZNkwbdBDVUFk2TBt0ENVQWTZMG3QQ1VBZNkwbdBDVUFk2TBt0ENVQWTZMG3QQ1VBZNkwbdBDVUFk2TBt0ENVQWTZMG3QQ1VBZNkwbdBDVUFk2TBt0ENVQWTZMG3QQ1VBZNkwbdBDVUFk2TBt0ENVQWTZMG3QQ1VBZNkwbdBDVUFk2TBt0ENVQWTZMG3QQ1VBZNkwbdBDVUFk2TBj442QCtWAcGPjjZAK1YBwY+ONkArVgHBj442QCtWAcGPjjZAK1YBwY+ONkArVgHBj442QCtWAcGPjjZAK1YBwY+ONkArVgHBj442QCtWAcGPjjZAK1YBwY+ONkArVgHBj442QCtWAcGPjjZAK1YBwY+ONkArVgHBj442QCtWAcGPjjZAK1YBwY+ONkArVgHBj442QCtWAcGPjjZAK1YBwY+ONkArVgHBj442QCtWAcGPjjZAK1YBwY+ONkArVgHBj442QCtWAcGPjjZAK1YBwY+ONkArVgHBj442QCtWAcGPjjZAK1YBwY+ONkArVgHBj442QCtWAcGPjjZAK1YBwY+ONkArVgHBj442QCtWAcGPjjZAK1YBwY+ONkArVgHBj442QCtWAcGPjjZAK1YBwY+ONkArVgHBj442QCtWAcGPjjZAK1YBwY+ONkArVgHBj442QCtWAcGPjjZAK1YBwY+ONkArVgHBj442QCtWAcGPjjZAK1YBwY+ONkArVgHBj442QCtWAcGPjjZAK1YBwaEd5nsPuBBBoR3mew+4EEGhHeZ7D7gQQaEd5nsPuBBBoR3mew+4EEGhHeZ7D7gQQaEd5nsPuBBBoR3mew+4EEGhHeZ7D7gQQaEd5nsPuBBBoR3mew+4EEGhHeZ7D7gQQaEd5nsPuBBBoR3mew+4EEGhHeZ7D7gQQaEd5nsPuBBBoR3mew+4EEGhHeZ7D7gQQaEd5nsPuBBBoR3mew+4EEGhHeZ7D7gQQaEd5nsPuBBBoR3mew+4EEGhHeZ7D7gQQaEd5nsPuBBBoR3mew+4EEGhHeZ7D7gQQaEd5nsPuBBBoR3mew+4EEGhHeZ7D7gQQaEd5nsPuBBBoR3mew+4EEGhHeZ7D7gQQaEd5nsPuBBBoR3mew+4EEGhHeZ7D7gQQaEd5nsPuBBBoR3mew+4EEGhHeZ7D7gQQaEd5nsPuBBBoR3mew+4EEGhHeZ7D7gQQaEd5nsPuBBBoR3mew+4EEGhHeZ7D7gQQaEd5nsPuBBBoR3mew+4EEGhHeZ7D7gQQaEd5nsPuBBBoR3mew+4EEEBSFxKd+xdQQFIXEp37F1BAUhcSnfsXUEBSFxKd+xdQQFIXEp37F1BAUhcSnfsXUEBSFxKd+xdQQFIXEp37F1BAUhcSnfsXUEBSFxKd+xdQQFIXEp37F1BAUhcSnfsXUEBSFxKd+xdQQFIXEp37F1BAUhcSnfsXUEBSFxKd+xdQQFIXEp37F1BAUhcSnfsXUEBSFxKd+xdQQFIXEp37F1BAUhcSnfsXUEBSFxKd+xdQQFIXEp37F1BAUhcSnfsXUEBSFxKd+xdQQFIXEp37F1BAUhcSnfsXUEBSFxKd+xdQQFIXEp37F1BAUhcSnfsXUEBSFxKd+xdQQFIXEp37F1BAUhcSnfsXUEBSFxKd+xdQQFIXEp37F1BAUhcSnfsXUEBSFxKd+xdQQFIXEp37F1BAUhcSnfsXUEBSFxKd+xdQQFIXEp37F1BAUhcSnfsXUEBSFxKd+xdQQFIXEp37F1BAUhcSnfsXUEBSFxKd+xdQQFIXEp37F1BAUhcSnfsXUEBSFxKd+xdQQFIXEp37F1Bwy1G8CSuWcHDLUbwJK5ZwcMtRvAkrlnBwy1G8CSuWcHDLUbwJK5ZwcMtRvAkrlnBwy1G8CSuWcHDLUbwJK5ZwcMtRvAkrlnBwy1G8CSuWcHDLUbwJK5ZwcMtRvAkrlnBwy1G8CSuWcHDLUbwJK5ZwcMtRvAkrlnBwy1G8CSuWcHDLUbwJK5ZwcMtRvAkrlnBwy1G8CSuWcHDLUbwJK5ZwcMtRvAkrlnBwy1G8CSuWcHDLUbwJK5ZwcMtRvAkrlnBwy1G8CSuWcHDLUbwJK5ZwcMtRvAkrlnBwy1G8CSuWcHDLUbwJK5ZwcMtRvAkrlnBwy1G8CSuWcHDLUbwJK5ZwcMtRvAkrlnBwy1G8CSuWcHDLUbwJK5ZwcMtRvAkrlnBwy1G8CSuWcHDLUbwJK5ZwcMtRvAkrlnBwy1G8CSuWcHDLUbwJK5ZwcMtRvAkrlnBwy1G8CSuWcHDLUbwJK5ZwcMtRvAkrlnBwy1G8CSuWcHDLUbwJK5ZwcMtRvAkrlnBwy1G8CSuWcHDLUbwJK5ZwbBFybetQmlBsEXJt61CaUGwRcm3rUJpQbBFybetQmlBsEXJt61CaUGwRcm3rUJpQbBFybetQmlBsEXJt61CaUGwRcm3rUJpQbBFybetQmlBsEXJt61CaUGwRcm3rUJpQbBFybetQmlBsEXJt61CaUGwRcm3rUJpQbBFybetQmlBsEXJt61CaUGwRcm3rUJpQbBFybetQmlBsEXJt61CaUGwRcm3rUJpQbBFybetQmlBsEXJt61CaUGwRcm3rUJpQbBFybetQmlBsEXJt61CaUGwRcm3rUJpQbBFybetQmlBsEXJt61CaUGwRcm3rUJpQbBFybetQmlBsEXJt61CaUGwRcm3rUJpQbBFybetQmlBsEXJt61CaUGwRcm3rUJpQbBFybetQmlBsEXJt61CaUGwRcm3rUJpQbBFybetQmlBsEXJt61CaUGwRcm3rUJpQbBFybetQmlBsEXJt61CaUGwRcm3rUJpQbBFybetQmlBsEXJt61CaUGwRcm3rUJpQbBFybetQmlBsEXJt61CaUFAAlbqJAxewUACVuokDF7BQAJW6iQMXsFAAlbqJAxewUACVuokDF7BQAJW6iQMXsFAAlbqJAxewUACVuokDF7BQAJW6iQMXsFAAlbqJAxewUACVuokDF7BQAJW6iQMXsFAAlbqJAxewUACVuokDF7BQAJW6iQMXsFAAlbqJAxewUACVuokDF7BQAJW6iQMXsFAAlbqJAxewUACVuokDF7BQAJW6iQMXsFAAlbqJAxewUACVuokDF7BQAJW6iQMXsFAAlbqJAxewUACVuokDF7BQAJW6iQMXsFAAlbqJAxewUACVuokDF7BQAJW6iQMXsFAAlbqJAxewUACVuokDF7BQAJW6iQMXsFAAlbqJAxewUACVuokDF7BQAJW6iQMXsFAAlbqJAxewUACVuokDF7BQAJW6iQMXsFAAlbqJAxewUACVuokDF7BQAJW6iQMXsFAAlbqJAxewUACVuokDF7BQAJW6iQMXsFAAlbqJAxewUACVuokDF7BQAJW6iQMXsFAAlbqJAxewUACVuokDF7BCJz/NQLAaMEInP81AsBowQic/zUCwGjBCJz/NQLAaMEInP81AsBowQic/zUCwGjBCJz/NQLAaMEInP81AsBowQic/zUCwGjBCJz/NQLAaMEInP81AsBowQic/zUCwGjBCJz/NQLAaMEInP81AsBowQic/zUCwGjBCJz/NQLAaMEInP81AsBowQic/zUCwGjBCJz/NQLAaMEInP81AsBowQic/zUCwGjBCJz/NQLAaMEInP81AsBowQic/zUCwGjBCJz/NQLAaMEInP81AsBowQic/zUCwGjBCJz/NQLAaMEInP81AsBowQic/zUCwGjBCJz/NQLAaMEInP81AsBowQic/zUCwGjBCJz/NQLAaMEInP81AsBowQic/zUCwGjBCJz/NQLAaMEInP81AsBowQic/zUCwGjBCJz/NQLAaMEInP81AsBowQic/zUCwGjBCJz/NQLAaMEInP81AsBowQic/zUCwGjBCJz/NQLAaMEInP81AsBowQic/zUCwGjBCJz/NQLAaMEInP81AsBowbVVd6Hd/EbBtVV3od38RsG1VXeh3fxGwbVVd6Hd/EbBtVV3od38RsG1VXeh3fxGwbVVd6Hd/EbBtVV3od38RsG1VXeh3fxGwbVVd6Hd/EbBtVV3od38RsG1VXeh3fxGwbVVd6Hd/EbBtVV3od38RsG1VXeh3fxGwbVVd6Hd/EbBtVV3od38RsG1VXeh3fxGwbVVd6Hd/EbBtVV3od38RsG1VXeh3fxGwbVVd6Hd/EbBtVV3od38RsG1VXeh3fxGwbVVd6Hd/EbBtVV3od38RsG1VXeh3fxGwbVVd6Hd/EbBtVV3od38RsG1VXeh3fxGwbVVd6Hd/EbBtVV3od38RsG1VXeh3fxGwbVVd6Hd/EbBtVV3od38RsG1VXeh3fxGwbVVd6Hd/EbBtVV3od38RsG1VXeh3fxGwbVVd6Hd/EbBtVV3od38RsG1VXeh3fxGwbVVd6Hd/EbBtVV3od38RsG1VXeh3fxGwbVVd6Hd/EbBtVV3od38RsG1VXeh3fxGwbVVd6Hd/EbBtVV3od38RsH+Rg2qCQhjQf5GDaoJCGNB/kYNqgkIY0H+Rg2qCQhjQf5GDaoJCGNB/kYNqgkIY0H+Rg2qCQhjQf5GDaoJCGNB\",\"dtype\":\"float64\",\"order\":\"little\",\"shape\":[558]},\"color\":[\"NZ\",\"NZ\",\"NZ\",\"NZ\",\"NZ\",\"NZ\",\"NZ\",\"NZ\",\"NZ\",\"NZ\",\"NZ\",\"NZ\",\"NZ\",\"NZ\",\"NZ\",\"NZ\",\"NZ\",\"NZ\",\"NZ\",\"NZ\",\"NZ\",\"NZ\",\"NZ\",\"NZ\",\"NZ\",\"NZ\",\"NZ\",\"NZ\",\"NZ\",\"NZ\",\"NZ\",\"NZ\",\"NZ\",\"NZ\",\"NZ\",\"NZ\",\"NZ\",\"NZ\",\"NZ\",\"NZ\",\"NZ\",\"NZ\",\"NZ\",\"NZ\",\"NZ\",\"NZ\",\"NZ\",\"NZ\",\"NZ\",\"NZ\",\"IR\",\"IR\",\"IR\",\"IR\",\"IR\",\"IR\",\"IR\",\"IR\",\"IR\",\"IR\",\"IR\",\"IR\",\"IR\",\"IR\",\"IR\",\"IR\",\"IR\",\"IR\",\"IR\",\"IR\",\"IR\",\"IR\",\"IR\",\"IR\",\"IR\",\"IR\",\"IR\",\"IR\",\"IR\",\"IR\",\"IR\",\"IR\",\"IR\",\"IR\",\"IR\",\"IR\",\"IR\",\"IR\",\"IR\",\"IR\",\"IR\",\"IR\",\"IR\",\"IR\",\"IR\",\"IR\",\"IR\",\"IR\",\"IR\",\"IR\",\"MX\",\"MX\",\"MX\",\"MX\",\"MX\",\"MX\",\"MX\",\"MX\",\"MX\",\"MX\",\"MX\",\"MX\",\"MX\",\"MX\",\"MX\",\"MX\",\"MX\",\"MX\",\"MX\",\"MX\",\"MX\",\"MX\",\"MX\",\"MX\",\"MX\",\"MX\",\"MX\",\"MX\",\"MX\",\"MX\",\"MX\",\"MX\",\"MX\",\"MX\",\"MX\",\"MX\",\"MX\",\"MX\",\"MX\",\"MX\",\"MX\",\"MX\",\"MX\",\"MX\",\"MX\",\"MX\",\"MX\",\"MX\",\"MX\",\"MX\",\"GB\",\"GB\",\"GB\",\"GB\",\"GB\",\"GB\",\"GB\",\"GB\",\"GB\",\"GB\",\"GB\",\"GB\",\"GB\",\"GB\",\"GB\",\"GB\",\"GB\",\"GB\",\"GB\",\"GB\",\"GB\",\"GB\",\"GB\",\"GB\",\"GB\",\"GB\",\"GB\",\"GB\",\"GB\",\"GB\",\"GB\",\"GB\",\"GB\",\"GB\",\"GB\",\"GB\",\"GB\",\"GB\",\"GB\",\"GB\",\"GB\",\"GB\",\"GB\",\"GB\",\"GB\",\"GB\",\"GB\",\"GB\",\"GB\",\"GB\",\"DZ\",\"DZ\",\"DZ\",\"DZ\",\"DZ\",\"DZ\",\"DZ\",\"DZ\",\"DZ\",\"DZ\",\"DZ\",\"DZ\",\"DZ\",\"DZ\",\"DZ\",\"DZ\",\"DZ\",\"DZ\",\"DZ\",\"DZ\",\"DZ\",\"DZ\",\"DZ\",\"DZ\",\"DZ\",\"DZ\",\"DZ\",\"DZ\",\"DZ\",\"DZ\",\"DZ\",\"DZ\",\"DZ\",\"DZ\",\"DZ\",\"DZ\",\"DZ\",\"DZ\",\"DZ\",\"DZ\",\"DZ\",\"DZ\",\"DZ\",\"DZ\",\"DZ\",\"DZ\",\"DZ\",\"DZ\",\"DZ\",\"DZ\",\"KZ\",\"KZ\",\"KZ\",\"KZ\",\"KZ\",\"KZ\",\"KZ\",\"KZ\",\"KZ\",\"KZ\",\"KZ\",\"KZ\",\"KZ\",\"KZ\",\"KZ\",\"KZ\",\"KZ\",\"KZ\",\"KZ\",\"KZ\",\"KZ\",\"KZ\",\"KZ\",\"KZ\",\"KZ\",\"KZ\",\"KZ\",\"KZ\",\"KZ\",\"KZ\",\"KZ\",\"KZ\",\"KZ\",\"KZ\",\"KZ\",\"KZ\",\"KZ\",\"KZ\",\"KZ\",\"KZ\",\"KZ\",\"KZ\",\"KZ\",\"KZ\",\"KZ\",\"KZ\",\"KZ\",\"KZ\",\"KZ\",\"KZ\",\"AR\",\"AR\",\"AR\",\"AR\",\"AR\",\"AR\",\"AR\",\"AR\",\"AR\",\"AR\",\"AR\",\"AR\",\"AR\",\"AR\",\"AR\",\"AR\",\"AR\",\"AR\",\"AR\",\"AR\",\"AR\",\"AR\",\"AR\",\"AR\",\"AR\",\"AR\",\"AR\",\"AR\",\"AR\",\"AR\",\"AR\",\"AR\",\"AR\",\"AR\",\"AR\",\"AR\",\"AR\",\"AR\",\"AR\",\"AR\",\"AR\",\"AR\",\"AR\",\"AR\",\"AR\",\"AR\",\"AR\",\"AR\",\"AR\",\"AR\",\"ID\",\"ID\",\"ID\",\"ID\",\"ID\",\"ID\",\"ID\",\"ID\",\"ID\",\"ID\",\"ID\",\"ID\",\"ID\",\"ID\",\"ID\",\"ID\",\"ID\",\"ID\",\"ID\",\"ID\",\"ID\",\"ID\",\"ID\",\"ID\",\"ID\",\"ID\",\"ID\",\"ID\",\"ID\",\"ID\",\"ID\",\"ID\",\"ID\",\"ID\",\"ID\",\"ID\",\"ID\",\"ID\",\"ID\",\"ID\",\"ID\",\"ID\",\"ID\",\"ID\",\"ID\",\"ID\",\"ID\",\"ID\",\"ID\",\"ID\",\"CL\",\"CL\",\"CL\",\"CL\",\"CL\",\"CL\",\"CL\",\"CL\",\"CL\",\"CL\",\"CL\",\"CL\",\"CL\",\"CL\",\"CL\",\"CL\",\"CL\",\"CL\",\"CL\",\"CL\",\"CL\",\"CL\",\"CL\",\"CL\",\"CL\",\"CL\",\"CL\",\"CL\",\"CL\",\"CL\",\"CL\",\"CL\",\"CL\",\"CL\",\"CL\",\"CL\",\"CL\",\"CL\",\"CL\",\"CL\",\"CL\",\"CL\",\"CL\",\"CL\",\"CL\",\"CL\",\"CL\",\"CL\",\"CL\",\"CL\",\"MX\",\"MX\",\"MX\",\"MX\",\"MX\",\"MX\",\"MX\",\"MX\",\"MX\",\"MX\",\"MX\",\"MX\",\"MX\",\"MX\",\"MX\",\"MX\",\"MX\",\"MX\",\"MX\",\"MX\",\"MX\",\"MX\",\"MX\",\"MX\",\"MX\",\"MX\",\"MX\",\"MX\",\"MX\",\"MX\",\"MX\",\"MX\",\"MX\",\"MX\",\"MX\",\"MX\",\"MX\",\"MX\",\"MX\",\"MX\",\"MX\",\"MX\",\"MX\",\"MX\",\"MX\",\"MX\",\"MX\",\"MX\",\"MX\",\"MX\",\"PT\",\"PT\",\"PT\",\"PT\",\"PT\",\"PT\",\"PT\",\"PT\",\"PT\",\"PT\",\"PT\",\"PT\",\"PT\",\"PT\",\"PT\",\"PT\",\"PT\",\"PT\",\"PT\",\"PT\",\"PT\",\"PT\",\"PT\",\"PT\",\"PT\",\"PT\",\"PT\",\"PT\",\"PT\",\"PT\",\"PT\",\"PT\",\"PT\",\"PT\",\"PT\",\"PT\",\"PT\",\"PT\",\"PT\",\"PT\",\"PT\",\"PT\",\"PT\",\"PT\",\"PT\",\"PT\",\"PT\",\"PT\",\"PT\",\"PT\",\"CN\",\"CN\",\"CN\",\"CN\",\"CN\",\"CN\",\"CN\",\"CN\"]},\"selected\":{\"id\":\"2164\"},\"selection_policy\":{\"id\":\"2176\"}},\"id\":\"2163\",\"type\":\"ColumnDataSource\"},{\"attributes\":{\"match_aspect\":true,\"overlay\":{\"id\":\"2121\"}},\"id\":\"2119\",\"type\":\"BoxZoomTool\"},{\"attributes\":{},\"id\":\"2120\",\"type\":\"ResetTool\"},{\"attributes\":{\"factors\":[\"NZ\",\"IR\",\"MX\",\"GB\",\"DZ\",\"KZ\",\"AR\",\"ID\",\"CL\",\"PT\",\"CN\"],\"palette\":[\"#1f77b3\",\"#ff7e0e\",\"#2ba02b\",\"#d62628\",\"#9367bc\",\"#8c564b\",\"#e277c1\",\"#7e7e7e\",\"#bcbc21\",\"#16bdcf\",\"#3a0182\"]},\"id\":\"2162\",\"type\":\"CategoricalColorMapper\"},{\"attributes\":{\"fill_color\":{\"field\":\"color\",\"transform\":{\"id\":\"2162\"}},\"hatch_color\":{\"field\":\"color\",\"transform\":{\"id\":\"2162\"}},\"line_color\":{\"field\":\"color\",\"transform\":{\"id\":\"2162\"}},\"x\":{\"field\":\"Lng\"},\"y\":{\"field\":\"Lat\"}},\"id\":\"2169\",\"type\":\"Scatter\"},{\"attributes\":{\"bottom_units\":\"screen\",\"coordinates\":null,\"fill_alpha\":0.5,\"fill_color\":\"lightgrey\",\"group\":null,\"left_units\":\"screen\",\"level\":\"overlay\",\"line_alpha\":1.0,\"line_color\":\"black\",\"line_dash\":[4,4],\"line_width\":2,\"right_units\":\"screen\",\"syncable\":false,\"top_units\":\"screen\"},\"id\":\"2121\",\"type\":\"BoxAnnotation\"}],\"root_ids\":[\"2087\"]},\"title\":\"Bokeh Application\",\"version\":\"2.4.3\"}};\n",
       "    var render_items = [{\"docid\":\"a21a3c50-8e12-4fde-ab31-14a83ac4db63\",\"root_ids\":[\"2087\"],\"roots\":{\"2087\":\"56fd276b-9f72-4025-a58e-ee8901e2cf3d\"}}];\n",
       "    root.Bokeh.embed.embed_items_notebook(docs_json, render_items);\n",
       "    for (const render_item of render_items) {\n",
       "      for (const root_id of render_item.root_ids) {\n",
       "\tconst id_el = document.getElementById(root_id)\n",
       "\tif (id_el.children.length && (id_el.children[0].className === 'bk-root')) {\n",
       "\t  const root_el = id_el.children[0]\n",
       "\t  root_el.id = root_el.id + '-rendered'\n",
       "\t}\n",
       "      }\n",
       "    }\n",
       "  }\n",
       "  if (root.Bokeh !== undefined && root.Bokeh.Panel !== undefined) {\n",
       "    embed_document(root);\n",
       "  } else {\n",
       "    var attempts = 0;\n",
       "    var timer = setInterval(function(root) {\n",
       "      if (root.Bokeh !== undefined && root.Bokeh.Panel !== undefined) {\n",
       "        clearInterval(timer);\n",
       "        embed_document(root);\n",
       "      } else if (document.readyState == \"complete\") {\n",
       "        attempts++;\n",
       "        if (attempts > 200) {\n",
       "          clearInterval(timer);\n",
       "          console.log(\"Bokeh: ERROR: Unable to run BokehJS code because BokehJS library is missing\");\n",
       "        }\n",
       "      }\n",
       "    }, 25, root)\n",
       "  }\n",
       "})(window);</script>"
      ],
      "text/plain": [
       ":Overlay\n",
       "   .Tiles.I  :Tiles   [x,y]\n",
       "   .Points.I :Points   [Lng,Lat]   (Country)"
      ]
     },
     "execution_count": 21,
     "metadata": {
      "application/vnd.holoviews_exec.v0+json": {
       "id": "2087"
      }
     },
     "output_type": "execute_result"
    }
   ],
   "source": [
    "%%capture --no-display\n",
    "\n",
    "# Configure the map plot\n",
    "map_plot=city_data_df.hvplot.points(\"Lng\",\"Lat\",geo = True, tiles=\"OSM\",color=\"Country\", size=\"Hotel Name\")\n",
    "\n",
    "# Display the map\n",
    "map_plot"
   ]
  },
  {
   "cell_type": "code",
   "execution_count": null,
   "metadata": {},
   "outputs": [],
   "source": []
  }
 ],
 "metadata": {
  "kernelspec": {
   "display_name": "Python 3 (ipykernel)",
   "language": "python",
   "name": "python3"
  },
  "language_info": {
   "codemirror_mode": {
    "name": "ipython",
    "version": 3
   },
   "file_extension": ".py",
   "mimetype": "text/x-python",
   "name": "python",
   "nbconvert_exporter": "python",
   "pygments_lexer": "ipython3",
   "version": "3.10.11"
  },
  "latex_envs": {
   "LaTeX_envs_menu_present": true,
   "autoclose": false,
   "autocomplete": true,
   "bibliofile": "biblio.bib",
   "cite_by": "apalike",
   "current_citInitial": 1,
   "eqLabelWithNumbers": true,
   "eqNumInitial": 1,
   "hotkeys": {
    "equation": "Ctrl-E",
    "itemize": "Ctrl-I"
   },
   "labels_anchors": false,
   "latex_user_defs": false,
   "report_style_numbering": false,
   "user_envs_cfg": false
  }
 },
 "nbformat": 4,
 "nbformat_minor": 4
}
